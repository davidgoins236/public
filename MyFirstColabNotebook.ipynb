{
  "nbformat": 4,
  "nbformat_minor": 0,
  "metadata": {
    "colab": {
      "provenance": [],
      "gpuType": "T4",
      "mount_file_id": "18__A3_ByGqOJFSWuoRu-97XZrivWbX0P",
      "authorship_tag": "ABX9TyM4jpZn7Jcqzf0k2HXNoKqU",
      "include_colab_link": true
    },
    "kernelspec": {
      "name": "python3",
      "display_name": "Python 3"
    },
    "language_info": {
      "name": "python"
    },
    "accelerator": "GPU"
  },
  "cells": [
    {
      "cell_type": "markdown",
      "metadata": {
        "id": "view-in-github",
        "colab_type": "text"
      },
      "source": [
        "<a href=\"https://colab.research.google.com/github/davidgoins236/public/blob/main/MyFirstColabNotebook.ipynb\" target=\"_parent\"><img src=\"https://colab.research.google.com/assets/colab-badge.svg\" alt=\"Open In Colab\"/></a>"
      ]
    },
    {
      "cell_type": "code",
      "execution_count": 1,
      "metadata": {
        "colab": {
          "base_uri": "https://localhost:8080/"
        },
        "id": "40-K6TTOb1ui",
        "outputId": "2a630e29-3970-43f5-b4c5-3108b860b899"
      },
      "outputs": [
        {
          "output_type": "stream",
          "name": "stdout",
          "text": [
            "Fri Aug 29 20:53:05 2025\n"
          ]
        }
      ],
      "source": [
        "import time\n",
        "print(time.ctime())"
      ]
    },
    {
      "cell_type": "code",
      "source": [
        "time.sleep(5)\n",
        "print (time.ctime())\n"
      ],
      "metadata": {
        "colab": {
          "base_uri": "https://localhost:8080/"
        },
        "id": "E90VSJHXcHfk",
        "outputId": "0c4978eb-eca7-4c6a-91ce-fc3d841f9213"
      },
      "execution_count": 2,
      "outputs": [
        {
          "output_type": "stream",
          "name": "stdout",
          "text": [
            "Fri Aug 29 20:53:10 2025\n"
          ]
        }
      ]
    },
    {
      "cell_type": "markdown",
      "source": [
        "This is **bold**.\n",
        "This is *italic*.\n",
        "This is ~strikethrough~.\n"
      ],
      "metadata": {
        "id": "aolVQiYAccBS"
      }
    },
    {
      "cell_type": "markdown",
      "source": [
        "$\\sqrt{3x-1}+(1+x)^2$"
      ],
      "metadata": {
        "id": "354A01GmcjzQ"
      }
    },
    {
      "cell_type": "markdown",
      "source": [
        "$e^x=\\sum_{i=0}^\\infty \\frac{1}{i!}x^i$\n"
      ],
      "metadata": {
        "id": "Wf0hC_p_cs0p"
      }
    },
    {
      "cell_type": "markdown",
      "source": [
        "Constraints are\n",
        " - $3x_1 + 6x_2 + x_3 =< 28$\n",
        " - $7x_1 + 3x_2 + 2x_3 =< 37$\n",
        " - $4x_1 + 5x_2 + 2x_3 =< 19$\n",
        " - $x_1,x_2,x_3 >=0 $\n",
        "The trial vector is calculated as follows:\n",
        "- $u_i(t) = x_i(t) + \\beta(\\hat{x}(t) − x_i(t)) + \\beta \\sum_{k = 1}^{n\n",
        " _v}(x_{i1,k}(t) − x_{i2,k}(t))$\n",
        " $f(x_1, x_2) = 20 + e - 20exp(-0.2 \\sqrt {\\frac {1}{n} (x_1^2 + x_2^2)}) - exp\n",
        "(\\frac {1}{n}(cos(2\\pi x_1) + cos(2\\pi x_2))$\n",
        "$x ∈ [-5, 5]$\n",
        ">$A_{m,n} =\n",
        "\\begin{pmatrix}\n",
        " a_{1,1} & a_{1,2} & \\cdots & a_{1,n} \\\\\n",
        " a_{2,1} & a_{2,2} & \\cdots & a_{2,n} \\\\\n",
        " \\vdots & \\vdots & \\ddots & \\vdots \\\\\n",
        " a_{m,1} & a_{m,2} & \\cdots & a_{m,n}\n",
        "\\end{pmatrix}$"
      ],
      "metadata": {
        "id": "Gr-2pNRic2tS"
      }
    },
    {
      "cell_type": "code",
      "source": [
        "message = \"A Great Tutorial on Colab by Tutorialspoint!\"\n",
        "greeting = !echo -e \"$message\\n$message\"\n",
        "greeting"
      ],
      "metadata": {
        "colab": {
          "base_uri": "https://localhost:8080/"
        },
        "id": "oHB8o1yKdhwP",
        "outputId": "00d74096-f52a-4814-e0ef-ffd421f1e714"
      },
      "execution_count": 3,
      "outputs": [
        {
          "output_type": "execute_result",
          "data": {
            "text/plain": [
              "['A Great Tutorial on Colab by Tutorialspoint!',\n",
              " 'A Great Tutorial on Colab by Tutorialspoint!']"
            ]
          },
          "metadata": {},
          "execution_count": 3
        }
      ]
    },
    {
      "cell_type": "markdown",
      "source": [
        "Note: Updated Link based on google search - looks like this dataset was moved to an archive"
      ],
      "metadata": {
        "id": "sBfedxi1frn_"
      }
    },
    {
      "cell_type": "code",
      "source": [
        "!wget http://mlr.cs.umass.edu/ml/machine-learning-databases/adult/adult.data -P \"/content/drive/My Drive/app\"\n"
      ],
      "metadata": {
        "colab": {
          "base_uri": "https://localhost:8080/"
        },
        "id": "YNRiUAJNedP6",
        "outputId": "632e2ad1-aeb2-46c2-d754-e810ae6cf6b0"
      },
      "execution_count": 4,
      "outputs": [
        {
          "output_type": "stream",
          "name": "stdout",
          "text": [
            "--2025-08-29 20:53:12--  http://mlr.cs.umass.edu/ml/machine-learning-databases/adult/adult.data\n",
            "Resolving mlr.cs.umass.edu (mlr.cs.umass.edu)... failed: Name or service not known.\n",
            "wget: unable to resolve host address ‘mlr.cs.umass.edu’\n"
          ]
        }
      ]
    },
    {
      "cell_type": "code",
      "source": [
        "import pandas as pd\n",
        "# data = pd.read_csv(\"/content/drive/My Drive/app/adult.data\")\n",
        "data = pd.read_csv('https://archive.ics.uci.edu/ml/machine-learning-databases/adult/adult.data')\n",
        "data.head(5)"
      ],
      "metadata": {
        "colab": {
          "base_uri": "https://localhost:8080/",
          "height": 206
        },
        "id": "NNHZWTlCf0sg",
        "outputId": "d62c7ebc-913c-42cc-df9f-b3e266d5d479"
      },
      "execution_count": 5,
      "outputs": [
        {
          "output_type": "execute_result",
          "data": {
            "text/plain": [
              "   39          State-gov   77516   Bachelors   13        Never-married  \\\n",
              "0  50   Self-emp-not-inc   83311   Bachelors   13   Married-civ-spouse   \n",
              "1  38            Private  215646     HS-grad    9             Divorced   \n",
              "2  53            Private  234721        11th    7   Married-civ-spouse   \n",
              "3  28            Private  338409   Bachelors   13   Married-civ-spouse   \n",
              "4  37            Private  284582     Masters   14   Married-civ-spouse   \n",
              "\n",
              "         Adm-clerical   Not-in-family   White     Male   2174   0   40  \\\n",
              "0     Exec-managerial         Husband   White     Male      0   0   13   \n",
              "1   Handlers-cleaners   Not-in-family   White     Male      0   0   40   \n",
              "2   Handlers-cleaners         Husband   Black     Male      0   0   40   \n",
              "3      Prof-specialty            Wife   Black   Female      0   0   40   \n",
              "4     Exec-managerial            Wife   White   Female      0   0   40   \n",
              "\n",
              "    United-States   <=50K  \n",
              "0   United-States   <=50K  \n",
              "1   United-States   <=50K  \n",
              "2   United-States   <=50K  \n",
              "3            Cuba   <=50K  \n",
              "4   United-States   <=50K  "
            ],
            "text/html": [
              "\n",
              "  <div id=\"df-6f955bfa-e24f-461a-a195-47277e0c0216\" class=\"colab-df-container\">\n",
              "    <div>\n",
              "<style scoped>\n",
              "    .dataframe tbody tr th:only-of-type {\n",
              "        vertical-align: middle;\n",
              "    }\n",
              "\n",
              "    .dataframe tbody tr th {\n",
              "        vertical-align: top;\n",
              "    }\n",
              "\n",
              "    .dataframe thead th {\n",
              "        text-align: right;\n",
              "    }\n",
              "</style>\n",
              "<table border=\"1\" class=\"dataframe\">\n",
              "  <thead>\n",
              "    <tr style=\"text-align: right;\">\n",
              "      <th></th>\n",
              "      <th>39</th>\n",
              "      <th>State-gov</th>\n",
              "      <th>77516</th>\n",
              "      <th>Bachelors</th>\n",
              "      <th>13</th>\n",
              "      <th>Never-married</th>\n",
              "      <th>Adm-clerical</th>\n",
              "      <th>Not-in-family</th>\n",
              "      <th>White</th>\n",
              "      <th>Male</th>\n",
              "      <th>2174</th>\n",
              "      <th>0</th>\n",
              "      <th>40</th>\n",
              "      <th>United-States</th>\n",
              "      <th>&lt;=50K</th>\n",
              "    </tr>\n",
              "  </thead>\n",
              "  <tbody>\n",
              "    <tr>\n",
              "      <th>0</th>\n",
              "      <td>50</td>\n",
              "      <td>Self-emp-not-inc</td>\n",
              "      <td>83311</td>\n",
              "      <td>Bachelors</td>\n",
              "      <td>13</td>\n",
              "      <td>Married-civ-spouse</td>\n",
              "      <td>Exec-managerial</td>\n",
              "      <td>Husband</td>\n",
              "      <td>White</td>\n",
              "      <td>Male</td>\n",
              "      <td>0</td>\n",
              "      <td>0</td>\n",
              "      <td>13</td>\n",
              "      <td>United-States</td>\n",
              "      <td>&lt;=50K</td>\n",
              "    </tr>\n",
              "    <tr>\n",
              "      <th>1</th>\n",
              "      <td>38</td>\n",
              "      <td>Private</td>\n",
              "      <td>215646</td>\n",
              "      <td>HS-grad</td>\n",
              "      <td>9</td>\n",
              "      <td>Divorced</td>\n",
              "      <td>Handlers-cleaners</td>\n",
              "      <td>Not-in-family</td>\n",
              "      <td>White</td>\n",
              "      <td>Male</td>\n",
              "      <td>0</td>\n",
              "      <td>0</td>\n",
              "      <td>40</td>\n",
              "      <td>United-States</td>\n",
              "      <td>&lt;=50K</td>\n",
              "    </tr>\n",
              "    <tr>\n",
              "      <th>2</th>\n",
              "      <td>53</td>\n",
              "      <td>Private</td>\n",
              "      <td>234721</td>\n",
              "      <td>11th</td>\n",
              "      <td>7</td>\n",
              "      <td>Married-civ-spouse</td>\n",
              "      <td>Handlers-cleaners</td>\n",
              "      <td>Husband</td>\n",
              "      <td>Black</td>\n",
              "      <td>Male</td>\n",
              "      <td>0</td>\n",
              "      <td>0</td>\n",
              "      <td>40</td>\n",
              "      <td>United-States</td>\n",
              "      <td>&lt;=50K</td>\n",
              "    </tr>\n",
              "    <tr>\n",
              "      <th>3</th>\n",
              "      <td>28</td>\n",
              "      <td>Private</td>\n",
              "      <td>338409</td>\n",
              "      <td>Bachelors</td>\n",
              "      <td>13</td>\n",
              "      <td>Married-civ-spouse</td>\n",
              "      <td>Prof-specialty</td>\n",
              "      <td>Wife</td>\n",
              "      <td>Black</td>\n",
              "      <td>Female</td>\n",
              "      <td>0</td>\n",
              "      <td>0</td>\n",
              "      <td>40</td>\n",
              "      <td>Cuba</td>\n",
              "      <td>&lt;=50K</td>\n",
              "    </tr>\n",
              "    <tr>\n",
              "      <th>4</th>\n",
              "      <td>37</td>\n",
              "      <td>Private</td>\n",
              "      <td>284582</td>\n",
              "      <td>Masters</td>\n",
              "      <td>14</td>\n",
              "      <td>Married-civ-spouse</td>\n",
              "      <td>Exec-managerial</td>\n",
              "      <td>Wife</td>\n",
              "      <td>White</td>\n",
              "      <td>Female</td>\n",
              "      <td>0</td>\n",
              "      <td>0</td>\n",
              "      <td>40</td>\n",
              "      <td>United-States</td>\n",
              "      <td>&lt;=50K</td>\n",
              "    </tr>\n",
              "  </tbody>\n",
              "</table>\n",
              "</div>\n",
              "    <div class=\"colab-df-buttons\">\n",
              "\n",
              "  <div class=\"colab-df-container\">\n",
              "    <button class=\"colab-df-convert\" onclick=\"convertToInteractive('df-6f955bfa-e24f-461a-a195-47277e0c0216')\"\n",
              "            title=\"Convert this dataframe to an interactive table.\"\n",
              "            style=\"display:none;\">\n",
              "\n",
              "  <svg xmlns=\"http://www.w3.org/2000/svg\" height=\"24px\" viewBox=\"0 -960 960 960\">\n",
              "    <path d=\"M120-120v-720h720v720H120Zm60-500h600v-160H180v160Zm220 220h160v-160H400v160Zm0 220h160v-160H400v160ZM180-400h160v-160H180v160Zm440 0h160v-160H620v160ZM180-180h160v-160H180v160Zm440 0h160v-160H620v160Z\"/>\n",
              "  </svg>\n",
              "    </button>\n",
              "\n",
              "  <style>\n",
              "    .colab-df-container {\n",
              "      display:flex;\n",
              "      gap: 12px;\n",
              "    }\n",
              "\n",
              "    .colab-df-convert {\n",
              "      background-color: #E8F0FE;\n",
              "      border: none;\n",
              "      border-radius: 50%;\n",
              "      cursor: pointer;\n",
              "      display: none;\n",
              "      fill: #1967D2;\n",
              "      height: 32px;\n",
              "      padding: 0 0 0 0;\n",
              "      width: 32px;\n",
              "    }\n",
              "\n",
              "    .colab-df-convert:hover {\n",
              "      background-color: #E2EBFA;\n",
              "      box-shadow: 0px 1px 2px rgba(60, 64, 67, 0.3), 0px 1px 3px 1px rgba(60, 64, 67, 0.15);\n",
              "      fill: #174EA6;\n",
              "    }\n",
              "\n",
              "    .colab-df-buttons div {\n",
              "      margin-bottom: 4px;\n",
              "    }\n",
              "\n",
              "    [theme=dark] .colab-df-convert {\n",
              "      background-color: #3B4455;\n",
              "      fill: #D2E3FC;\n",
              "    }\n",
              "\n",
              "    [theme=dark] .colab-df-convert:hover {\n",
              "      background-color: #434B5C;\n",
              "      box-shadow: 0px 1px 3px 1px rgba(0, 0, 0, 0.15);\n",
              "      filter: drop-shadow(0px 1px 2px rgba(0, 0, 0, 0.3));\n",
              "      fill: #FFFFFF;\n",
              "    }\n",
              "  </style>\n",
              "\n",
              "    <script>\n",
              "      const buttonEl =\n",
              "        document.querySelector('#df-6f955bfa-e24f-461a-a195-47277e0c0216 button.colab-df-convert');\n",
              "      buttonEl.style.display =\n",
              "        google.colab.kernel.accessAllowed ? 'block' : 'none';\n",
              "\n",
              "      async function convertToInteractive(key) {\n",
              "        const element = document.querySelector('#df-6f955bfa-e24f-461a-a195-47277e0c0216');\n",
              "        const dataTable =\n",
              "          await google.colab.kernel.invokeFunction('convertToInteractive',\n",
              "                                                    [key], {});\n",
              "        if (!dataTable) return;\n",
              "\n",
              "        const docLinkHtml = 'Like what you see? Visit the ' +\n",
              "          '<a target=\"_blank\" href=https://colab.research.google.com/notebooks/data_table.ipynb>data table notebook</a>'\n",
              "          + ' to learn more about interactive tables.';\n",
              "        element.innerHTML = '';\n",
              "        dataTable['output_type'] = 'display_data';\n",
              "        await google.colab.output.renderOutput(dataTable, element);\n",
              "        const docLink = document.createElement('div');\n",
              "        docLink.innerHTML = docLinkHtml;\n",
              "        element.appendChild(docLink);\n",
              "      }\n",
              "    </script>\n",
              "  </div>\n",
              "\n",
              "\n",
              "    <div id=\"df-5681cfc3-e8a9-4e88-846a-c7d17470bf41\">\n",
              "      <button class=\"colab-df-quickchart\" onclick=\"quickchart('df-5681cfc3-e8a9-4e88-846a-c7d17470bf41')\"\n",
              "                title=\"Suggest charts\"\n",
              "                style=\"display:none;\">\n",
              "\n",
              "<svg xmlns=\"http://www.w3.org/2000/svg\" height=\"24px\"viewBox=\"0 0 24 24\"\n",
              "     width=\"24px\">\n",
              "    <g>\n",
              "        <path d=\"M19 3H5c-1.1 0-2 .9-2 2v14c0 1.1.9 2 2 2h14c1.1 0 2-.9 2-2V5c0-1.1-.9-2-2-2zM9 17H7v-7h2v7zm4 0h-2V7h2v10zm4 0h-2v-4h2v4z\"/>\n",
              "    </g>\n",
              "</svg>\n",
              "      </button>\n",
              "\n",
              "<style>\n",
              "  .colab-df-quickchart {\n",
              "      --bg-color: #E8F0FE;\n",
              "      --fill-color: #1967D2;\n",
              "      --hover-bg-color: #E2EBFA;\n",
              "      --hover-fill-color: #174EA6;\n",
              "      --disabled-fill-color: #AAA;\n",
              "      --disabled-bg-color: #DDD;\n",
              "  }\n",
              "\n",
              "  [theme=dark] .colab-df-quickchart {\n",
              "      --bg-color: #3B4455;\n",
              "      --fill-color: #D2E3FC;\n",
              "      --hover-bg-color: #434B5C;\n",
              "      --hover-fill-color: #FFFFFF;\n",
              "      --disabled-bg-color: #3B4455;\n",
              "      --disabled-fill-color: #666;\n",
              "  }\n",
              "\n",
              "  .colab-df-quickchart {\n",
              "    background-color: var(--bg-color);\n",
              "    border: none;\n",
              "    border-radius: 50%;\n",
              "    cursor: pointer;\n",
              "    display: none;\n",
              "    fill: var(--fill-color);\n",
              "    height: 32px;\n",
              "    padding: 0;\n",
              "    width: 32px;\n",
              "  }\n",
              "\n",
              "  .colab-df-quickchart:hover {\n",
              "    background-color: var(--hover-bg-color);\n",
              "    box-shadow: 0 1px 2px rgba(60, 64, 67, 0.3), 0 1px 3px 1px rgba(60, 64, 67, 0.15);\n",
              "    fill: var(--button-hover-fill-color);\n",
              "  }\n",
              "\n",
              "  .colab-df-quickchart-complete:disabled,\n",
              "  .colab-df-quickchart-complete:disabled:hover {\n",
              "    background-color: var(--disabled-bg-color);\n",
              "    fill: var(--disabled-fill-color);\n",
              "    box-shadow: none;\n",
              "  }\n",
              "\n",
              "  .colab-df-spinner {\n",
              "    border: 2px solid var(--fill-color);\n",
              "    border-color: transparent;\n",
              "    border-bottom-color: var(--fill-color);\n",
              "    animation:\n",
              "      spin 1s steps(1) infinite;\n",
              "  }\n",
              "\n",
              "  @keyframes spin {\n",
              "    0% {\n",
              "      border-color: transparent;\n",
              "      border-bottom-color: var(--fill-color);\n",
              "      border-left-color: var(--fill-color);\n",
              "    }\n",
              "    20% {\n",
              "      border-color: transparent;\n",
              "      border-left-color: var(--fill-color);\n",
              "      border-top-color: var(--fill-color);\n",
              "    }\n",
              "    30% {\n",
              "      border-color: transparent;\n",
              "      border-left-color: var(--fill-color);\n",
              "      border-top-color: var(--fill-color);\n",
              "      border-right-color: var(--fill-color);\n",
              "    }\n",
              "    40% {\n",
              "      border-color: transparent;\n",
              "      border-right-color: var(--fill-color);\n",
              "      border-top-color: var(--fill-color);\n",
              "    }\n",
              "    60% {\n",
              "      border-color: transparent;\n",
              "      border-right-color: var(--fill-color);\n",
              "    }\n",
              "    80% {\n",
              "      border-color: transparent;\n",
              "      border-right-color: var(--fill-color);\n",
              "      border-bottom-color: var(--fill-color);\n",
              "    }\n",
              "    90% {\n",
              "      border-color: transparent;\n",
              "      border-bottom-color: var(--fill-color);\n",
              "    }\n",
              "  }\n",
              "</style>\n",
              "\n",
              "      <script>\n",
              "        async function quickchart(key) {\n",
              "          const quickchartButtonEl =\n",
              "            document.querySelector('#' + key + ' button');\n",
              "          quickchartButtonEl.disabled = true;  // To prevent multiple clicks.\n",
              "          quickchartButtonEl.classList.add('colab-df-spinner');\n",
              "          try {\n",
              "            const charts = await google.colab.kernel.invokeFunction(\n",
              "                'suggestCharts', [key], {});\n",
              "          } catch (error) {\n",
              "            console.error('Error during call to suggestCharts:', error);\n",
              "          }\n",
              "          quickchartButtonEl.classList.remove('colab-df-spinner');\n",
              "          quickchartButtonEl.classList.add('colab-df-quickchart-complete');\n",
              "        }\n",
              "        (() => {\n",
              "          let quickchartButtonEl =\n",
              "            document.querySelector('#df-5681cfc3-e8a9-4e88-846a-c7d17470bf41 button');\n",
              "          quickchartButtonEl.style.display =\n",
              "            google.colab.kernel.accessAllowed ? 'block' : 'none';\n",
              "        })();\n",
              "      </script>\n",
              "    </div>\n",
              "\n",
              "    </div>\n",
              "  </div>\n"
            ],
            "application/vnd.google.colaboratory.intrinsic+json": {
              "type": "dataframe",
              "variable_name": "data",
              "summary": "{\n  \"name\": \"data\",\n  \"rows\": 32560,\n  \"fields\": [\n    {\n      \"column\": \"39\",\n      \"properties\": {\n        \"dtype\": \"number\",\n        \"std\": 13,\n        \"min\": 17,\n        \"max\": 90,\n        \"num_unique_values\": 73,\n        \"samples\": [\n          37,\n          73,\n          59\n        ],\n        \"semantic_type\": \"\",\n        \"description\": \"\"\n      }\n    },\n    {\n      \"column\": \" State-gov\",\n      \"properties\": {\n        \"dtype\": \"category\",\n        \"num_unique_values\": 9,\n        \"samples\": [\n          \" Without-pay\",\n          \" Private\",\n          \" ?\"\n        ],\n        \"semantic_type\": \"\",\n        \"description\": \"\"\n      }\n    },\n    {\n      \"column\": \" 77516\",\n      \"properties\": {\n        \"dtype\": \"number\",\n        \"std\": 105549,\n        \"min\": 12285,\n        \"max\": 1484705,\n        \"num_unique_values\": 21647,\n        \"samples\": [\n          78036,\n          201481,\n          558490\n        ],\n        \"semantic_type\": \"\",\n        \"description\": \"\"\n      }\n    },\n    {\n      \"column\": \" Bachelors\",\n      \"properties\": {\n        \"dtype\": \"category\",\n        \"num_unique_values\": 16,\n        \"samples\": [\n          \" Bachelors\",\n          \" HS-grad\",\n          \" Some-college\"\n        ],\n        \"semantic_type\": \"\",\n        \"description\": \"\"\n      }\n    },\n    {\n      \"column\": \" 13\",\n      \"properties\": {\n        \"dtype\": \"number\",\n        \"std\": 2,\n        \"min\": 1,\n        \"max\": 16,\n        \"num_unique_values\": 16,\n        \"samples\": [\n          13,\n          9,\n          10\n        ],\n        \"semantic_type\": \"\",\n        \"description\": \"\"\n      }\n    },\n    {\n      \"column\": \" Never-married\",\n      \"properties\": {\n        \"dtype\": \"category\",\n        \"num_unique_values\": 7,\n        \"samples\": [\n          \" Married-civ-spouse\",\n          \" Divorced\",\n          \" Married-AF-spouse\"\n        ],\n        \"semantic_type\": \"\",\n        \"description\": \"\"\n      }\n    },\n    {\n      \"column\": \" Adm-clerical\",\n      \"properties\": {\n        \"dtype\": \"category\",\n        \"num_unique_values\": 15,\n        \"samples\": [\n          \" Machine-op-inspct\",\n          \" ?\",\n          \" Exec-managerial\"\n        ],\n        \"semantic_type\": \"\",\n        \"description\": \"\"\n      }\n    },\n    {\n      \"column\": \" Not-in-family\",\n      \"properties\": {\n        \"dtype\": \"category\",\n        \"num_unique_values\": 6,\n        \"samples\": [\n          \" Husband\",\n          \" Not-in-family\",\n          \" Other-relative\"\n        ],\n        \"semantic_type\": \"\",\n        \"description\": \"\"\n      }\n    },\n    {\n      \"column\": \" White\",\n      \"properties\": {\n        \"dtype\": \"category\",\n        \"num_unique_values\": 5,\n        \"samples\": [\n          \" Black\",\n          \" Other\",\n          \" Asian-Pac-Islander\"\n        ],\n        \"semantic_type\": \"\",\n        \"description\": \"\"\n      }\n    },\n    {\n      \"column\": \" Male\",\n      \"properties\": {\n        \"dtype\": \"category\",\n        \"num_unique_values\": 2,\n        \"samples\": [\n          \" Female\",\n          \" Male\"\n        ],\n        \"semantic_type\": \"\",\n        \"description\": \"\"\n      }\n    },\n    {\n      \"column\": \" 2174\",\n      \"properties\": {\n        \"dtype\": \"number\",\n        \"std\": 7385,\n        \"min\": 0,\n        \"max\": 99999,\n        \"num_unique_values\": 119,\n        \"samples\": [\n          3781,\n          15831\n        ],\n        \"semantic_type\": \"\",\n        \"description\": \"\"\n      }\n    },\n    {\n      \"column\": \" 0\",\n      \"properties\": {\n        \"dtype\": \"number\",\n        \"std\": 402,\n        \"min\": 0,\n        \"max\": 4356,\n        \"num_unique_values\": 92,\n        \"samples\": [\n          419,\n          2051\n        ],\n        \"semantic_type\": \"\",\n        \"description\": \"\"\n      }\n    },\n    {\n      \"column\": \" 40\",\n      \"properties\": {\n        \"dtype\": \"number\",\n        \"std\": 12,\n        \"min\": 1,\n        \"max\": 99,\n        \"num_unique_values\": 94,\n        \"samples\": [\n          6,\n          22\n        ],\n        \"semantic_type\": \"\",\n        \"description\": \"\"\n      }\n    },\n    {\n      \"column\": \" United-States\",\n      \"properties\": {\n        \"dtype\": \"category\",\n        \"num_unique_values\": 42,\n        \"samples\": [\n          \" El-Salvador\",\n          \" Philippines\"\n        ],\n        \"semantic_type\": \"\",\n        \"description\": \"\"\n      }\n    },\n    {\n      \"column\": \" <=50K\",\n      \"properties\": {\n        \"dtype\": \"category\",\n        \"num_unique_values\": 2,\n        \"samples\": [\n          \" >50K\",\n          \" <=50K\"\n        ],\n        \"semantic_type\": \"\",\n        \"description\": \"\"\n      }\n    }\n  ]\n}"
            }
          },
          "metadata": {},
          "execution_count": 5
        }
      ]
    },
    {
      "cell_type": "code",
      "source": [
        "!git clone https://github.com/wxs/keras-mnist-tutorial.git"
      ],
      "metadata": {
        "colab": {
          "base_uri": "https://localhost:8080/"
        },
        "id": "zaKi5K6QkKuF",
        "outputId": "e00e5b74-eade-47ef-c9f5-507062b05f7c"
      },
      "execution_count": 6,
      "outputs": [
        {
          "output_type": "stream",
          "name": "stdout",
          "text": [
            "Cloning into 'keras-mnist-tutorial'...\n",
            "remote: Enumerating objects: 26, done.\u001b[K\n",
            "remote: Total 26 (delta 0), reused 0 (delta 0), pack-reused 26 (from 1)\u001b[K\n",
            "Receiving objects: 100% (26/26), 341.08 KiB | 34.11 MiB/s, done.\n",
            "Resolving deltas: 100% (12/12), done.\n"
          ]
        }
      ]
    },
    {
      "cell_type": "code",
      "source": [
        "!ls /bin"
      ],
      "metadata": {
        "colab": {
          "base_uri": "https://localhost:8080/"
        },
        "id": "cOe75RqAkNSU",
        "outputId": "8705029b-92fd-4848-cda9-b2e85ad8bdaa"
      },
      "execution_count": 7,
      "outputs": [
        {
          "output_type": "stream",
          "name": "stdout",
          "text": [
            "'['\t\t\t\t      mm2gv\n",
            " 7z\t\t\t\t      more\n",
            " 7za\t\t\t\t      mount\n",
            " 7zr\t\t\t\t      mountpoint\n",
            " aclocal\t\t\t      mpexpand\n",
            " aclocal-1.16\t\t\t      mpic++\n",
            " acyclic\t\t\t      mpicc\n",
            " add-apt-repository\t\t      mpiCC\n",
            " addpart\t\t\t      mpicc.openmpi\n",
            " addr2line\t\t\t      mpiCC.openmpi\n",
            " aggregate_profile\t\t      mpic++.openmpi\n",
            " ambiguous_words\t\t      mpicxx\n",
            " apropos\t\t\t      mpicxx.openmpi\n",
            " apt\t\t\t\t      mpiexec\n",
            " apt-add-repository\t\t      mpiexec.openmpi\n",
            " apt-cache\t\t\t      mpif77\n",
            " apt-cdrom\t\t\t      mpif77.openmpi\n",
            " apt-config\t\t\t      mpif90\n",
            " apt-extracttemplates\t\t      mpif90.openmpi\n",
            " apt-ftparchive\t\t\t      mpifort\n",
            " apt-get\t\t\t      mpifort.openmpi\n",
            " apt-key\t\t\t      mpijavac\n",
            " apt-mark\t\t\t      mpijavac.pl\n",
            " apt-sortpkgs\t\t\t      mpirun\n",
            " ar\t\t\t\t      mpirun.openmpi\n",
            " arch\t\t\t\t      mv\n",
            " as\t\t\t\t      mysql_config\n",
            " asan_symbolize\t\t\t      namei\n",
            " asan_symbolize-14\t\t      nawk\n",
            " autoconf\t\t\t      nc-config\n",
            " autoheader\t\t\t      ncurses5-config\n",
            " autom4te\t\t\t      ncurses6-config\n",
            " automake\t\t\t      ncursesw5-config\n",
            " automake-1.16\t\t\t      ncursesw6-config\n",
            " autoreconf\t\t\t      neato\n",
            " autoscan\t\t\t      neqn\n",
            " autoupdate\t\t\t      netstat\n",
            " awk\t\t\t\t      networkctl\n",
            " b2\t\t\t\t      newgrp\n",
            " b2sum\t\t\t\t      nice\n",
            " base32\t\t\t\t      nisdomainname\n",
            " base64\t\t\t\t      nl\n",
            " basename\t\t\t      nm\n",
            " basenc\t\t\t\t      nns\n",
            " bash\t\t\t\t      nnsd\n",
            " bashbug\t\t\t      nnslog\n",
            " bc\t\t\t\t      nohup\n",
            " bcomps\t\t\t\t      nop\n",
            " bcp\t\t\t\t      nproc\n",
            " bjam\t\t\t\t      nroff\n",
            " bootctl\t\t\t      nsenter\n",
            " browse\t\t\t\t      nslookup\n",
            " bunzip2\t\t\t      nstat\n",
            " busctl\t\t\t\t      nsupdate\n",
            " bzcat\t\t\t\t      numfmt\n",
            " bzcmp\t\t\t\t      nvidia-bug-report.sh\n",
            " bzdiff\t\t\t\t      nvidia-cuda-mps-control\n",
            " bzegrep\t\t\t      nvidia-cuda-mps-server\n",
            " bzexe\t\t\t\t      nvidia-debugdump\n",
            " bzfgrep\t\t\t      nvidia-installer\n",
            " bzgrep\t\t\t\t      nvidia-modprobe\n",
            " bzip2\t\t\t\t      nvidia-ngx-updater\n",
            " bzip2recover\t\t\t      nvidia-persistenced\n",
            " bzless\t\t\t\t      nvidia-powerd\n",
            " bzmore\t\t\t\t      nvidia-settings\n",
            " c++\t\t\t\t      nvidia-sleep.sh\n",
            " c89\t\t\t\t      nvidia-smi\n",
            " c89-gcc\t\t\t      nvidia-uninstall\n",
            " c99\t\t\t\t      nvidia-xconfig\n",
            " c99-gcc\t\t\t      objcopy\n",
            " captoinfo\t\t\t      objdump\n",
            " cat\t\t\t\t      od\n",
            " catman\t\t\t\t      ogdi-config\n",
            " cautious-launcher\t\t      ompi-clean\n",
            " cc\t\t\t\t      ompi_info\n",
            " ccomps\t\t\t\t      ompi-server\n",
            " c++filt\t\t\t      opalc++\n",
            " chage\t\t\t\t      opalcc\n",
            " chattr\t\t\t\t      opal_wrapper\n",
            " chcon\t\t\t\t      open\n",
            " chfn\t\t\t\t      opencv_annotation\n",
            " chgrp\t\t\t\t      opencv_interactive-calibration\n",
            " chmod\t\t\t\t      opencv_model_diagnostics\n",
            " choom\t\t\t\t      opencv_version\n",
            " chown\t\t\t\t      opencv_visualisation\n",
            " chronic\t\t\t      opencv_waldboost_detector\n",
            " chrt\t\t\t\t      openssl\n",
            " chsh\t\t\t\t      ortecc\n",
            " circo\t\t\t\t      orte-clean\n",
            " cksum\t\t\t\t      orted\n",
            " clang\t\t\t\t      orte-info\n",
            " clang++\t\t\t      orterun\n",
            " clang++-14\t\t\t      orte-server\n",
            " clang-14\t\t\t      osage\n",
            " clang-cpp-14\t\t\t      oshc++\n",
            " classifier_tester\t\t      oshcc\n",
            " clear\t\t\t\t      oshCC\n",
            " clear_console\t\t\t      oshcxx\n",
            " clinfo\t\t\t\t      oshfort\n",
            " cluster\t\t\t      oshmem_info\n",
            " cmake\t\t\t\t      oshrun\n",
            " cmp\t\t\t\t      p7zip\n",
            " cntraining\t\t\t      pack200\n",
            " col\t\t\t\t      page\n",
            " colcrt\t\t\t\t      pager\n",
            " colrm\t\t\t\t      paperconf\n",
            " column\t\t\t\t      parallel\n",
            " combine\t\t\t      partx\n",
            " combine_lang_model\t\t      passwd\n",
            " combine_tessdata\t\t      paste\n",
            " comm\t\t\t\t      patch\n",
            " compile_et\t\t\t      patchwork\n",
            " compose\t\t\t      pathchk\n",
            " corelist\t\t\t      pcre2-config\n",
            " cp\t\t\t\t      pcre-config\n",
            " cpack\t\t\t\t      pdb3\n",
            " cpan\t\t\t\t      pdb3.10\n",
            " cpan5.34-x86_64-linux-gnu\t      pdb3.12\n",
            " cpp\t\t\t\t      pee\n",
            " cpp-11\t\t\t\t      peekfd\n",
            " c_rehash\t\t\t      perl\n",
            " csplit\t\t\t\t      perl5.34.0\n",
            " ctest\t\t\t\t      perl5.34-x86_64-linux-gnu\n",
            " ctstat\t\t\t\t      perlbug\n",
            " curl\t\t\t\t      perldoc\n",
            " curl-config\t\t\t      perlivp\n",
            " cut\t\t\t\t      perlthanks\n",
            " cvtsudoers\t\t\t      pg_config\n",
            " dash\t\t\t\t      pgrep\n",
            " date\t\t\t\t      pic\n",
            " dawg2wordlist\t\t\t      piconv\n",
            " dbus-cleanup-sockets\t\t      pidof\n",
            " dbus-daemon\t\t\t      pidwait\n",
            " dbus-monitor\t\t\t      pigz\n",
            " dbus-run-session\t\t      pinentry\n",
            " dbus-send\t\t\t      pinentry-curses\n",
            " dbus-update-activation-environment   pinky\n",
            " dbus-uuidgen\t\t\t      pkaction\n",
            " dd\t\t\t\t      pkcheck\n",
            " debconf\t\t\t      pkexec\n",
            " debconf-apt-progress\t\t      pkgconf\n",
            " debconf-communicate\t\t      pkg-config\n",
            " debconf-copydb\t\t\t      pkgdata\n",
            " debconf-escape\t\t\t      pkill\n",
            " debconf-set-selections\t\t      pkttyagent\n",
            " debconf-show\t\t\t      pl2pm\n",
            " deb-systemd-helper\t\t      pldd\n",
            " deb-systemd-invoke\t\t      pmap\n",
            " delpart\t\t\t      pod2html\n",
            " delv\t\t\t\t      pod2man\n",
            " derb\t\t\t\t      pod2text\n",
            " df\t\t\t\t      pod2usage\n",
            " dh_autotools-dev_restoreconfig       podchecker\n",
            " dh_autotools-dev_updateconfig\t      pprof-symbolize\n",
            " dh_girepository\t\t      pr\n",
            " diff\t\t\t\t      preconv\n",
            " diff3\t\t\t\t      prename\n",
            " diffimg\t\t\t      print\n",
            " dig\t\t\t\t      printenv\n",
            " dijkstra\t\t\t      printf\n",
            " dir\t\t\t\t      prlimit\n",
            " dircolors\t\t\t      procan\n",
            " dirmngr\t\t\t      profile2mat\n",
            " dirmngr-client\t\t\t      protoc\n",
            " dirname\t\t\t      prove\n",
            " dmesg\t\t\t\t      prtstat\n",
            " dnsdomainname\t\t\t      prune\n",
            " domainname\t\t\t      ps\n",
            " dot\t\t\t\t      pslog\n",
            " dot2gxl\t\t\t      pstree\n",
            " dot_builtins\t\t\t      pstree.x11\n",
            " dotty\t\t\t\t      pt\n",
            " dpkg\t\t\t\t      ptar\n",
            " dpkg-architecture\t\t      ptardiff\n",
            " dpkg-buildflags\t\t      ptargrep\n",
            " dpkg-buildpackage\t\t      ptx\n",
            " dpkg-checkbuilddeps\t\t      pwd\n",
            " dpkg-deb\t\t\t      pwdx\n",
            " dpkg-distaddfile\t\t      py3clean\n",
            " dpkg-divert\t\t\t      py3compile\n",
            " dpkg-genbuildinfo\t\t      py3versions\n",
            " dpkg-genchanges\t\t      pydoc3\n",
            " dpkg-gencontrol\t\t      pydoc3.10\n",
            " dpkg-gensymbols\t\t      pydoc3.12\n",
            " dpkg-maintscript-helper\t      pygettext3\n",
            " dpkg-mergechangelogs\t\t      pygettext3.10\n",
            " dpkg-name\t\t\t      pygettext3.12\n",
            " dpkg-parsechangelog\t\t      python3\n",
            " dpkg-query\t\t\t      python3.10\n",
            " dpkg-realpath\t\t\t      python3.10-config\n",
            " dpkg-scanpackages\t\t      python3.12\n",
            " dpkg-scansources\t\t      python3.12-config\n",
            " dpkg-shlibdeps\t\t\t      python3-config\n",
            " dpkg-source\t\t\t      qt-faststart\n",
            " dpkg-split\t\t\t      quickbook\n",
            " dpkg-statoverride\t\t      R\n",
            " dpkg-trigger\t\t\t      ranlib\n",
            " dpkg-vendor\t\t\t      rbash\n",
            " dtplite\t\t\t      rcp\n",
            " du\t\t\t\t      rdma\n",
            " dwp\t\t\t\t      readelf\n",
            " echo\t\t\t\t      readlink\n",
            " edgepaint\t\t\t      realpath\n",
            " edit\t\t\t\t      rename\n",
            " editor\t\t\t\t      renice\n",
            " egrep\t\t\t\t      reset\n",
            " elfedit\t\t\t      resizepart\n",
            " enc2xs\t\t\t\t      resolvectl\n",
            " encguess\t\t\t      rev\n",
            " env\t\t\t\t      rg\n",
            " eqn\t\t\t\t      rgrep\n",
            " errno\t\t\t\t      rlogin\n",
            " ex\t\t\t\t      rm\n",
            " expand\t\t\t\t      rmdir\n",
            " expiry\t\t\t\t      rmic\n",
            " expr\t\t\t\t      rmid\n",
            " f77\t\t\t\t      rmiregistry\n",
            " f95\t\t\t\t      routef\n",
            " factor\t\t\t\t      routel\n",
            " faillog\t\t\t      rpcgen\n",
            " fallocate\t\t\t      rrsync\n",
            " false\t\t\t\t      Rscript\n",
            " fc-cache\t\t\t      rsh\n",
            " fc-cat\t\t\t\t      rsync\n",
            " fc-conflist\t\t\t      rsync-ssl\n",
            " fc-list\t\t\t      rtstat\n",
            " fc-match\t\t\t      runcon\n",
            " fc-pattern\t\t\t      run-mailcap\n",
            " fc-query\t\t\t      run-parts\n",
            " fc-scan\t\t\t      rview\n",
            " fc-validate\t\t\t      rvim\n",
            " fdp\t\t\t\t      savelog\n",
            " ffmpeg\t\t\t\t      sccmap\n",
            " ffplay\t\t\t\t      scp\n",
            " ffprobe\t\t\t      script\n",
            " fgrep\t\t\t\t      scriptlive\n",
            " filan\t\t\t\t      scriptreplay\n",
            " file\t\t\t\t      sdiff\n",
            " file-rename\t\t\t      sed\n",
            " fincore\t\t\t      see\n",
            " find\t\t\t\t      select-editor\n",
            " findmnt\t\t\t      sensible-browser\n",
            " fio\t\t\t\t      sensible-editor\n",
            " fio2gnuplot\t\t\t      sensible-pager\n",
            " fio-btrace2fio\t\t\t      seq\n",
            " fio-dedupe\t\t\t      serialver\n",
            " fio_generate_plots\t\t      setarch\n",
            " fio-genzipf\t\t\t      setpriv\n",
            " fio_jsonplus_clat2csv\t\t      setsid\n",
            " fio-verify-state\t\t      setterm\n",
            " flock\t\t\t\t      set_unicharset_properties\n",
            " fmt\t\t\t\t      setxkbmap\n",
            " fold\t\t\t\t      sfdp\n",
            " free\t\t\t\t      sftp\n",
            " funzip\t\t\t\t      sg\n",
            " fuser\t\t\t\t      sh\n",
            " fusermount\t\t\t      sha1sum\n",
            " g++\t\t\t\t      sha224sum\n",
            " g++-11\t\t\t\t      sha256sum\n",
            " gapplication\t\t\t      sha384sum\n",
            " gc\t\t\t\t      sha512sum\n",
            " gcc\t\t\t\t      shapeclustering\n",
            " gcc-11\t\t\t\t      shasum\n",
            " gcc-ar\t\t\t\t      shmemc++\n",
            " gcc-ar-11\t\t\t      shmemcc\n",
            " gcc-nm\t\t\t\t      shmemCC\n",
            " gcc-nm-11\t\t\t      shmemcxx\n",
            " gcc-ranlib\t\t\t      shmemfort\n",
            " gcc-ranlib-11\t\t\t      shmemrun\n",
            " gcov\t\t\t\t      shred\n",
            " gcov-11\t\t\t      shuf\n",
            " gcov-dump\t\t\t      size\n",
            " gcov-dump-11\t\t\t      skill\n",
            " gcov-tool\t\t\t      slabtop\n",
            " gcov-tool-11\t\t\t      sleep\n",
            " gdal-config\t\t\t      slogin\n",
            " gdbus\t\t\t\t      snice\n",
            " gdbus-codegen\t\t\t      socat\n",
            " genbrk\t\t\t\t      soelim\n",
            " gencat\t\t\t\t      sort\n",
            " gencfu\t\t\t\t      splain\n",
            " gencnval\t\t\t      split\n",
            " gendict\t\t\t      sponge\n",
            " genfio\t\t\t\t      ss\n",
            " genrb\t\t\t\t      ssh\n",
            " geos-config\t\t\t      ssh-add\n",
            " geqn\t\t\t\t      ssh-agent\n",
            " getconf\t\t\t      ssh-argv0\n",
            " getent\t\t\t\t      ssh-copy-id\n",
            " getopt\t\t\t\t      ssh-keygen\n",
            " gfortran\t\t\t      ssh-keyscan\n",
            " gfortran-11\t\t\t      stat\n",
            " gh\t\t\t\t      stdbuf\n",
            " gio\t\t\t\t      streamzip\n",
            " gio-querymodules\t\t      strings\n",
            " g-ir-annotation-tool\t\t      strip\n",
            " g-ir-compiler\t\t\t      stty\n",
            " g-ir-doc-tool\t\t\t      su\n",
            " g-ir-generate\t\t\t      sudo\n",
            " g-ir-inspect\t\t\t      sudoedit\n",
            " g-ir-scanner\t\t\t      sudoreplay\n",
            " git\t\t\t\t      sum\n",
            " git-lfs\t\t\t      sync\n",
            " git-receive-pack\t\t      systemctl\n",
            " git-shell\t\t\t      systemd\n",
            " git-upload-archive\t\t      systemd-analyze\n",
            " git-upload-pack\t\t      systemd-ask-password\n",
            " glib-compile-resources\t\t      systemd-cat\n",
            " glib-compile-schemas\t\t      systemd-cgls\n",
            " glib-genmarshal\t\t      systemd-cgtop\n",
            " glib-gettextize\t\t      systemd-cryptenroll\n",
            " glib-mkenums\t\t\t      systemd-delta\n",
            " gmake\t\t\t\t      systemd-detect-virt\n",
            " gml2gv\t\t\t\t      systemd-escape\n",
            " gobject-query\t\t\t      systemd-id128\n",
            " gold\t\t\t\t      systemd-inhibit\n",
            " google-pprof\t\t\t      systemd-machine-id-setup\n",
            " gpasswd\t\t\t      systemd-mount\n",
            " gpg\t\t\t\t      systemd-notify\n",
            " gpg2\t\t\t\t      systemd-path\n",
            " gpg-agent\t\t\t      systemd-run\n",
            " gpgcompose\t\t\t      systemd-socket-activate\n",
            " gpgconf\t\t\t      systemd-stdio-bridge\n",
            " gpg-connect-agent\t\t      systemd-sysext\n",
            " gpgparsemail\t\t\t      systemd-sysusers\n",
            " gpgsm\t\t\t\t      systemd-tmpfiles\n",
            " gpgsplit\t\t\t      systemd-tty-ask-password-agent\n",
            " gpgtar\t\t\t\t      systemd-umount\n",
            " gpgv\t\t\t\t      tabs\n",
            " gpg-wks-server\t\t\t      tac\n",
            " gpg-zip\t\t\t      tail\n",
            " gpic\t\t\t\t      tar\n",
            " gprof\t\t\t\t      taskset\n",
            " graphml2gv\t\t\t      tbl\n",
            " grep\t\t\t\t      tcldocstrip\n",
            " gresource\t\t\t      tclsh\n",
            " groff\t\t\t\t      tclsh8.6\n",
            " grog\t\t\t\t      tcltk-depends\n",
            " grops\t\t\t\t      tee\n",
            " grotty\t\t\t\t      tempfile\n",
            " groups\t\t\t\t      tesseract\n",
            " gsettings\t\t\t      test\n",
            " gtbl\t\t\t\t      text2image\n",
            " gtester\t\t\t      tic\n",
            " gtester-report\t\t\t      timedatectl\n",
            " gtk-update-icon-cache\t\t      timeout\n",
            " gunzip\t\t\t\t      tload\n",
            " gv2gml\t\t\t\t      tmux\n",
            " gv2gxl\t\t\t\t      toe\n",
            " gvcolor\t\t\t      top\n",
            " gvgen\t\t\t\t      touch\n",
            " gvmap\t\t\t\t      tput\n",
            " gvmap.sh\t\t\t      tr\n",
            " gvpack\t\t\t\t      tred\n",
            " gvpr\t\t\t\t      troff\n",
            " gxl2dot\t\t\t      true\n",
            " gxl2gv\t\t\t\t      truncate\n",
            " gzexe\t\t\t\t      ts\n",
            " gzip\t\t\t\t      tset\n",
            " h2ph\t\t\t\t      tsort\n",
            " h2xs\t\t\t\t      tty\n",
            " h5c++\t\t\t\t      twopi\n",
            " h5cc\t\t\t\t      tzselect\n",
            " h5fc\t\t\t\t      ucf\n",
            " hardlink\t\t\t      ucfq\n",
            " hd\t\t\t\t      ucfr\n",
            " head\t\t\t\t      uclampset\n",
            " helpztags\t\t\t      uconv\n",
            " hexdump\t\t\t      ul\n",
            " host\t\t\t\t      ulockmgr_server\n",
            " hostid\t\t\t\t      umount\n",
            " hostname\t\t\t      uname\n",
            " hostnamectl\t\t\t      uncompress\n",
            " i386\t\t\t\t      unexpand\n",
            " iconv\t\t\t\t      unflatten\n",
            " icuexportdata\t\t\t      unicharset_extractor\n",
            " icuinfo\t\t\t      uniq\n",
            " id\t\t\t\t      unlink\n",
            " ifdata\t\t\t\t      unlzma\n",
            " ifnames\t\t\t      unpack200\n",
            " ifne\t\t\t\t      unpigz\n",
            " infocmp\t\t\t      unrar\n",
            " infotocap\t\t\t      unrar-nonfree\n",
            " inspect\t\t\t      unshare\n",
            " install\t\t\t      unxz\n",
            " instmodsh\t\t\t      unzip\n",
            " ionice\t\t\t\t      unzipsfx\n",
            " ip\t\t\t\t      update-alternatives\n",
            " ipcmk\t\t\t\t      update-mime-database\n",
            " ipcrm\t\t\t\t      uptime\n",
            " ipcs\t\t\t\t      users\n",
            " ischroot\t\t\t      utmpdump\n",
            " isutf8\t\t\t\t      vdir\n",
            " jaotc\t\t\t\t      vi\n",
            " jar\t\t\t\t      vidir\n",
            " jarsigner\t\t\t      view\n",
            " java\t\t\t\t      vim\n",
            " javac\t\t\t\t      vim.basic\n",
            " javadoc\t\t\t      vimdiff\n",
            " javap\t\t\t\t      vimdot\n",
            " jcmd\t\t\t\t      vimtutor\n",
            " jdb\t\t\t\t      vipe\n",
            " jdeprscan\t\t\t      vmstat\n",
            " jdeps\t\t\t\t      w\n",
            " jexec\t\t\t\t      wall\n",
            " jfr\t\t\t\t      watch\n",
            " jhsdb\t\t\t\t      watchgnupg\n",
            " jimage\t\t\t\t      wc\n",
            " jinfo\t\t\t\t      wdctl\n",
            " jjs\t\t\t\t      wget\n",
            " jlink\t\t\t\t      whatis\n",
            " jmap\t\t\t\t      whereis\n",
            " jmod\t\t\t\t      which\n",
            " join\t\t\t\t      which.debianutils\n",
            " journalctl\t\t\t      who\n",
            " jps\t\t\t\t      whoami\n",
            " jq\t\t\t\t      wish\n",
            " jrunscript\t\t\t      wish8.6\n",
            " jshell\t\t\t\t      wordlist2dawg\n",
            " json_pp\t\t\t      write\n",
            " jstack\t\t\t\t      write.ul\n",
            " jstat\t\t\t\t      X11\n",
            " jstatd\t\t\t\t      x86_64\n",
            " kbxutil\t\t\t      x86_64-linux-gnu-addr2line\n",
            " kernel-install\t\t\t      x86_64-linux-gnu-ar\n",
            " keyring\t\t\t      x86_64-linux-gnu-as\n",
            " keytool\t\t\t      x86_64-linux-gnu-c++filt\n",
            " kill\t\t\t\t      x86_64-linux-gnu-cpp\n",
            " killall\t\t\t      x86_64-linux-gnu-cpp-11\n",
            " kmod\t\t\t\t      x86_64-linux-gnu-dwp\n",
            " krb5-config\t\t\t      x86_64-linux-gnu-elfedit\n",
            " krb5-config.mit\t\t      x86_64-linux-gnu-g++\n",
            " last\t\t\t\t      x86_64-linux-gnu-g++-11\n",
            " lastb\t\t\t\t      x86_64-linux-gnu-gcc\n",
            " lastlog\t\t\t      x86_64-linux-gnu-gcc-11\n",
            " lcf\t\t\t\t      x86_64-linux-gnu-gcc-ar\n",
            " lckdo\t\t\t\t      x86_64-linux-gnu-gcc-ar-11\n",
            " ld\t\t\t\t      x86_64-linux-gnu-gcc-nm\n",
            " ld.bfd\t\t\t\t      x86_64-linux-gnu-gcc-nm-11\n",
            " ldd\t\t\t\t      x86_64-linux-gnu-gcc-ranlib\n",
            " ld.gold\t\t\t      x86_64-linux-gnu-gcc-ranlib-11\n",
            " lefty\t\t\t\t      x86_64-linux-gnu-gcov\n",
            " less\t\t\t\t      x86_64-linux-gnu-gcov-11\n",
            " lessecho\t\t\t      x86_64-linux-gnu-gcov-dump\n",
            " lessfile\t\t\t      x86_64-linux-gnu-gcov-dump-11\n",
            " lesskey\t\t\t      x86_64-linux-gnu-gcov-tool\n",
            " lesspipe\t\t\t      x86_64-linux-gnu-gcov-tool-11\n",
            " lexgrog\t\t\t      x86_64-linux-gnu-gfortran\n",
            " libnetcfg\t\t\t      x86_64-linux-gnu-gfortran-11\n",
            " libpng16-config\t\t      x86_64-linux-gnu-gold\n",
            " libpng-config\t\t\t      x86_64-linux-gnu-gprof\n",
            " link\t\t\t\t      x86_64-linux-gnu-ld\n",
            " linux32\t\t\t      x86_64-linux-gnu-ld.bfd\n",
            " linux64\t\t\t      x86_64-linux-gnu-ld.gold\n",
            " ln\t\t\t\t      x86_64-linux-gnu-lto-dump-11\n",
            " lneato\t\t\t\t      x86_64-linux-gnu-nm\n",
            " lnstat\t\t\t\t      x86_64-linux-gnu-objcopy\n",
            " locale\t\t\t\t      x86_64-linux-gnu-objdump\n",
            " locale-check\t\t\t      x86_64-linux-gnu-pkg-config\n",
            " localectl\t\t\t      x86_64-linux-gnu-python3.10-config\n",
            " localedef\t\t\t      x86_64-linux-gnu-python3.12-config\n",
            " logger\t\t\t\t      x86_64-linux-gnu-python3-config\n",
            " login\t\t\t\t      x86_64-linux-gnu-ranlib\n",
            " loginctl\t\t\t      x86_64-linux-gnu-readelf\n",
            " logname\t\t\t      x86_64-linux-gnu-size\n",
            " look\t\t\t\t      x86_64-linux-gnu-strings\n",
            " ls\t\t\t\t      x86_64-linux-gnu-strip\n",
            " lsattr\t\t\t\t      xargs\n",
            " lsblk\t\t\t\t      xauth\n",
            " lsb_release\t\t\t      xdg-desktop-icon\n",
            " lscpu\t\t\t\t      xdg-desktop-menu\n",
            " lsipc\t\t\t\t      xdg-email\n",
            " lslocks\t\t\t      xdg-icon-resource\n",
            " lslogins\t\t\t      xdg-mime\n",
            " lsmem\t\t\t\t      xdg-open\n",
            " lsmod\t\t\t\t      xdg-screensaver\n",
            " lsns\t\t\t\t      xdg-settings\n",
            " lsof\t\t\t\t      xkbbell\n",
            " lspgpot\t\t\t      xkbcomp\n",
            " lstmeval\t\t\t      xkbevd\n",
            " lstmtraining\t\t\t      xkbprint\n",
            " lto-dump-11\t\t\t      xkbvleds\n",
            " lzcat\t\t\t\t      xkbwatch\n",
            " lzcmp\t\t\t\t      xml2-config\n",
            " lzdiff\t\t\t\t      xsubpp\n",
            " lzegrep\t\t\t      Xvfb\n",
            " lzfgrep\t\t\t      xvfb-run\n",
            " lzgrep\t\t\t\t      xxd\n",
            " lzless\t\t\t\t      xz\n",
            " lzma\t\t\t\t      xzcat\n",
            " lzmainfo\t\t\t      xzcmp\n",
            " lzmore\t\t\t\t      xzdiff\n",
            " m4\t\t\t\t      xzegrep\n",
            " make\t\t\t\t      xzfgrep\n",
            " makeconv\t\t\t      xzgrep\n",
            " make-first-existing-target\t      xzless\n",
            " mako-render\t\t\t      xzmore\n",
            " man\t\t\t\t      yes\n",
            " mandb\t\t\t\t      ypdomainname\n",
            " manpath\t\t\t      zcat\n",
            " man.REAL\t\t\t      zcmp\n",
            " man-recode\t\t\t      zdiff\n",
            " markdown_py\t\t\t      zdump\n",
            " mawk\t\t\t\t      zegrep\n",
            " mcookie\t\t\t      zfgrep\n",
            " md5sum\t\t\t\t      zforce\n",
            " md5sum.textutils\t\t      zgrep\n",
            " mdig\t\t\t\t      zip\n",
            " merge_unicharsets\t\t      zipcloak\n",
            " mesg\t\t\t\t      zipdetails\n",
            " mftraining\t\t\t      zipgrep\n",
            " migrate-pubring-from-classic-gpg     zipinfo\n",
            " mingle\t\t\t\t      zipnote\n",
            " mispipe\t\t\t      zipsplit\n",
            " mkdir\t\t\t\t      zless\n",
            " mkfifo\t\t\t\t      zmore\n",
            " mknod\t\t\t\t      znew\n",
            " mktemp\t\t\t\t      zrun\n"
          ]
        }
      ]
    },
    {
      "cell_type": "code",
      "source": [
        "# Run this cell to mount your Google Drive.\n",
        "from google.colab import drive\n",
        "drive.mount('/content/drive')"
      ],
      "metadata": {
        "colab": {
          "base_uri": "https://localhost:8080/"
        },
        "id": "kpOdo_JEkjOQ",
        "outputId": "ca3db540-089e-459f-e06f-0f551103c9c7"
      },
      "execution_count": 8,
      "outputs": [
        {
          "output_type": "stream",
          "name": "stdout",
          "text": [
            "Drive already mounted at /content/drive; to attempt to forcibly remount, call drive.mount(\"/content/drive\", force_remount=True).\n"
          ]
        }
      ]
    },
    {
      "cell_type": "code",
      "source": [
        "!ls \"/content/drive/My Drive/app\""
      ],
      "metadata": {
        "colab": {
          "base_uri": "https://localhost:8080/"
        },
        "id": "lTfV3RU0ktkm",
        "outputId": "9bfd4f35-5b9f-4e43-e0cf-461089d1d84e"
      },
      "execution_count": 9,
      "outputs": [
        {
          "output_type": "stream",
          "name": "stdout",
          "text": [
            "ls: cannot access '/content/drive/My Drive/app': No such file or directory\n"
          ]
        }
      ]
    },
    {
      "cell_type": "code",
      "source": [
        "print(\"Welcome to TutorialsPoint!\")"
      ],
      "metadata": {
        "colab": {
          "base_uri": "https://localhost:8080/"
        },
        "id": "tohVytLplF2V",
        "outputId": "c9b6afa2-b010-40bd-9faa-97654f5da2e8"
      },
      "execution_count": 10,
      "outputs": [
        {
          "output_type": "stream",
          "name": "stdout",
          "text": [
            "Welcome to TutorialsPoint!\n"
          ]
        }
      ]
    },
    {
      "cell_type": "code",
      "source": [
        "import numpy as np\n",
        "from matplotlib import pyplot as plt\n",
        "\n",
        "y = np.random.randn(100)\n",
        "x = [x for x in range(len(y))]\n",
        "\n",
        "plt.plot(x, y, '-')\n",
        "plt.fill_between(x, y, 200, where = (y > 195), facecolor='g', alpha=0.6)\n",
        "\n",
        "plt.title(\"Sample Plot\")\n",
        "plt.show()"
      ],
      "metadata": {
        "colab": {
          "base_uri": "https://localhost:8080/",
          "height": 452
        },
        "id": "bDCfPWntljr3",
        "outputId": "0d340532-6aae-44a1-e04c-ac2eb298a5c6"
      },
      "execution_count": 11,
      "outputs": [
        {
          "output_type": "display_data",
          "data": {
            "text/plain": [
              "<Figure size 640x480 with 1 Axes>"
            ],
            "image/png": "[encoded data removed]"
          },
          "metadata": {}
        }
      ]
    },
    {
      "cell_type": "code",
      "source": [
        "import torch"
      ],
      "metadata": {
        "id": "S7khUWmHloFH"
      },
      "execution_count": 12,
      "outputs": []
    },
    {
      "cell_type": "code",
      "source": [
        "# Tensor = torch.cos()"
      ],
      "metadata": {
        "id": "9e-ptNkqlqO4"
      },
      "execution_count": 14,
      "outputs": []
    },
    {
      "cell_type": "code",
      "source": [
        "%ldir"
      ],
      "metadata": {
        "colab": {
          "base_uri": "https://localhost:8080/"
        },
        "id": "tpY3IUZ1l8Xw",
        "outputId": "cd36c2a3-6807-49f4-bea8-add0b19d857e"
      },
      "execution_count": 16,
      "outputs": [
        {
          "output_type": "stream",
          "name": "stdout",
          "text": [
            "drwx------ 5 root 4096 Aug 29 20:53 \u001b[0m\u001b[01;34mdrive\u001b[0m/\n",
            "drwxr-xr-x 3 root 4096 Aug 29 20:53 \u001b[01;34mkeras-mnist-tutorial\u001b[0m/\n",
            "drwxr-xr-x 1 root 4096 Aug 28 13:43 \u001b[01;34msample_data\u001b[0m/\n"
          ]
        }
      ]
    },
    {
      "cell_type": "code",
      "source": [
        "%history"
      ],
      "metadata": {
        "colab": {
          "base_uri": "https://localhost:8080/"
        },
        "id": "vY-osi6gl_hM",
        "outputId": "4ea61060-1420-4dfd-ff53-eccefbb0a581"
      },
      "execution_count": 17,
      "outputs": [
        {
          "output_type": "stream",
          "name": "stdout",
          "text": [
            "import time\n",
            "print(time.ctime())\n",
            "time.sleep(5)\n",
            "print (time.ctime())\n",
            "message = \"A Great Tutorial on Colab by Tutorialspoint!\"\n",
            "greeting = !echo -e \"$message\\n$message\"\n",
            "greeting\n",
            "!wget http://mlr.cs.umass.edu/ml/machine-learning-databases/adult/adult.data -P \"/content/drive/My Drive/app\"\n",
            "import pandas as pd\n",
            "# data = pd.read_csv(\"/content/drive/My Drive/app/adult.data\")\n",
            "data = pd.read_csv('https://archive.ics.uci.edu/ml/machine-learning-databases/adult/adult.data')\n",
            "data.head(5)\n",
            "!git clone https://github.com/wxs/keras-mnist-tutorial.git\n",
            "!ls /bin\n",
            "# Run this cell to mount your Google Drive.\n",
            "from google.colab import drive\n",
            "drive.mount('/content/drive')\n",
            "!ls \"/content/drive/My Drive/app\"\n",
            "print(\"Welcome to TutorialsPoint!\")\n",
            "import numpy as np\n",
            "from matplotlib import pyplot as plt\n",
            "\n",
            "y = np.random.randn(100)\n",
            "x = [x for x in range(len(y))]\n",
            "\n",
            "plt.plot(x, y, '-')\n",
            "plt.fill_between(x, y, 200, where = (y > 195), facecolor='g', alpha=0.6)\n",
            "\n",
            "plt.title(\"Sample Plot\")\n",
            "plt.show()\n",
            "import torch\n",
            "Tensor = torch.cos()\n",
            "# Tensor = torch.cos()\n",
            "%%html\n",
            "<svg xmlns=\"https://www.w3.org/2000/svg\" viewBox=\"0 0 600 400\" width=\"400\" height=\"400\">\n",
            "   <rect x=\"10\" y=\"00\" width=\"300\" height=\"100\" rx=\"0\" style=\"fill:orange; stroke:black; fill-opacity:1.0\" />\n",
            "   <rect x=\"10\" y=\"100\" width=\"300\" height=\"100\" rx=\"0\" style=\"fill:white; stroke:black; fill-opacity:1.0;\" />\n",
            "   <rect x=\"10\" y=\"200\" width=\"300\" height=\"100\" rx=\"0\" style=\"fill:green; stroke:black; fill-opacity:1.0;\" />\n",
            "</svg>\n",
            "%ldir\n",
            "%history\n"
          ]
        }
      ]
    },
    {
      "cell_type": "code",
      "source": [
        "%%html\n",
        "<marquee style='width: 50%; color: Green;'>Welcome to Tutorialspoint!</marquee>"
      ],
      "metadata": {
        "colab": {
          "base_uri": "https://localhost:8080/",
          "height": 39
        },
        "id": "HJrCUzqnmCgb",
        "outputId": "7c36c546-4863-40f5-8f32-178ad8d0513e"
      },
      "execution_count": 18,
      "outputs": [
        {
          "output_type": "display_data",
          "data": {
            "text/plain": [
              "<IPython.core.display.HTML object>"
            ],
            "text/html": [
              "<marquee style='width: 50%; color: Green;'>Welcome to Tutorialspoint!</marquee>\n"
            ]
          },
          "metadata": {}
        }
      ]
    },
    {
      "cell_type": "code",
      "source": [
        "%%html\n",
        "<svg xmlns=\"https://www.w3.org/2000/svg\" viewBox=\"0 0 600 400\" width=\"400\" height=\"400\">\n",
        "   <rect x=\"10\" y=\"00\" width=\"300\" height=\"100\" rx=\"0\" style=\"fill:orange; stroke:black; fill-opacity:1.0\" />\n",
        "   <rect x=\"10\" y=\"100\" width=\"300\" height=\"100\" rx=\"0\" style=\"fill:white; stroke:black; fill-opacity:1.0;\" />\n",
        "   <rect x=\"10\" y=\"200\" width=\"300\" height=\"100\" rx=\"0\" style=\"fill:green; stroke:black; fill-opacity:1.0;\" />\n",
        "</svg>"
      ],
      "metadata": {
        "colab": {
          "base_uri": "https://localhost:8080/",
          "height": 422
        },
        "id": "0RI9slSLmGtY",
        "outputId": "2de163cf-a76f-45ff-dc79-573d037d679c"
      },
      "execution_count": 15,
      "outputs": [
        {
          "output_type": "display_data",
          "data": {
            "text/plain": [
              "<IPython.core.display.HTML object>"
            ],
            "text/html": [
              "<svg xmlns=\"https://www.w3.org/2000/svg\" viewBox=\"0 0 600 400\" width=\"400\" height=\"400\">\n",
              "   <rect x=\"10\" y=\"00\" width=\"300\" height=\"100\" rx=\"0\" style=\"fill:orange; stroke:black; fill-opacity:1.0\" />\n",
              "   <rect x=\"10\" y=\"100\" width=\"300\" height=\"100\" rx=\"0\" style=\"fill:white; stroke:black; fill-opacity:1.0;\" />\n",
              "   <rect x=\"10\" y=\"200\" width=\"300\" height=\"100\" rx=\"0\" style=\"fill:green; stroke:black; fill-opacity:1.0;\" />\n",
              "</svg>\n"
            ]
          },
          "metadata": {}
        }
      ]
    },
    {
      "cell_type": "code",
      "source": [
        "%lsmagic"
      ],
      "metadata": {
        "colab": {
          "base_uri": "https://localhost:8080/",
          "height": 1000
        },
        "id": "JtStAHpUmKXr",
        "outputId": "ba442622-0c10-4bf5-8480-4be8f5913cb2"
      },
      "execution_count": 19,
      "outputs": [
        {
          "output_type": "execute_result",
          "data": {
            "text/plain": [
              "Available line magics:\n",
              "%alias  %alias_magic  %autoawait  %autocall  %automagic  %autosave  %bookmark  %cat  %cd  %clear  %colors  %conda  %config  %connect_info  %cp  %debug  %dhist  %dirs  %doctest_mode  %ed  %edit  %env  %gui  %hist  %history  %killbgscripts  %ldir  %less  %lf  %lk  %ll  %load  %load_ext  %loadpy  %logoff  %logon  %logstart  %logstate  %logstop  %ls  %lsmagic  %lx  %macro  %magic  %man  %matplotlib  %mkdir  %more  %mv  %notebook  %page  %pastebin  %pdb  %pdef  %pdoc  %pfile  %pinfo  %pinfo2  %pip  %popd  %pprint  %precision  %prun  %psearch  %psource  %pushd  %pwd  %pycat  %pylab  %qtconsole  %quickref  %recall  %rehashx  %reload_ext  %rep  %rerun  %reset  %reset_selective  %rm  %rmdir  %run  %save  %sc  %set_env  %shell  %store  %sx  %system  %tb  %tensorflow_version  %time  %timeit  %unalias  %unload_ext  %who  %who_ls  %whos  %xdel  %xmode\n",
              "\n",
              "Available cell magics:\n",
              "%%!  %%HTML  %%SVG  %%bash  %%bigquery  %%capture  %%debug  %%file  %%html  %%javascript  %%js  %%latex  %%markdown  %%perl  %%prun  %%pypy  %%python  %%python2  %%python3  %%ruby  %%script  %%sh  %%shell  %%spanner_graph  %%svg  %%sx  %%system  %%time  %%timeit  %%writefile\n",
              "\n",
              "Automagic is ON, % prefix IS NOT needed for line magics."
            ],
            "application/json": {
              "line": {
                "automagic": "AutoMagics",
                "autocall": "AutoMagics",
                "alias_magic": "BasicMagics",
                "lsmagic": "BasicMagics",
                "magic": "BasicMagics",
                "page": "BasicMagics",
                "pprint": "BasicMagics",
                "colors": "BasicMagics",
                "xmode": "BasicMagics",
                "quickref": "BasicMagics",
                "doctest_mode": "BasicMagics",
                "gui": "BasicMagics",
                "precision": "BasicMagics",
                "notebook": "BasicMagics",
                "save": "CodeMagics",
                "pastebin": "CodeMagics",
                "loadpy": "CodeMagics",
                "load": "CodeMagics",
                "edit": "KernelMagics",
                "config": "ConfigMagics",
                "prun": "ExecutionMagics",
                "pdb": "ExecutionMagics",
                "debug": "ExecutionMagics",
                "tb": "ExecutionMagics",
                "run": "ExecutionMagics",
                "timeit": "ExecutionMagics",
                "time": "ExecutionMagics",
                "macro": "ExecutionMagics",
                "load_ext": "ExtensionMagics",
                "unload_ext": "ExtensionMagics",
                "reload_ext": "ExtensionMagics",
                "history": "HistoryMagics",
                "recall": "HistoryMagics",
                "rerun": "HistoryMagics",
                "logstart": "LoggingMagics",
                "logstop": "LoggingMagics",
                "logoff": "LoggingMagics",
                "logon": "LoggingMagics",
                "logstate": "LoggingMagics",
                "pinfo": "NamespaceMagics",
                "pinfo2": "NamespaceMagics",
                "pdef": "NamespaceMagics",
                "pdoc": "NamespaceMagics",
                "psource": "NamespaceMagics",
                "pfile": "NamespaceMagics",
                "psearch": "NamespaceMagics",
                "who_ls": "NamespaceMagics",
                "who": "NamespaceMagics",
                "whos": "NamespaceMagics",
                "reset": "NamespaceMagics",
                "reset_selective": "NamespaceMagics",
                "xdel": "NamespaceMagics",
                "alias": "OSMagics",
                "unalias": "OSMagics",
                "rehashx": "OSMagics",
                "pwd": "OSMagics",
                "cd": "OSMagics",
                "env": "OSMagics",
                "set_env": "OSMagics",
                "pushd": "OSMagics",
                "popd": "OSMagics",
                "dirs": "OSMagics",
                "dhist": "OSMagics",
                "sc": "OSMagics",
                "sx": "OSMagics",
                "system": "OSMagics",
                "bookmark": "OSMagics",
                "pycat": "OSMagics",
                "pip": "Other",
                "conda": "PackagingMagics",
                "matplotlib": "PylabMagics",
                "pylab": "PylabMagics",
                "killbgscripts": "ScriptMagics",
                "autoawait": "AsyncMagics",
                "ed": "Other",
                "hist": "Other",
                "rep": "Other",
                "clear": "KernelMagics",
                "less": "KernelMagics",
                "more": "KernelMagics",
                "man": "KernelMagics",
                "connect_info": "KernelMagics",
                "qtconsole": "KernelMagics",
                "autosave": "KernelMagics",
                "mkdir": "Other",
                "rmdir": "Other",
                "mv": "Other",
                "rm": "Other",
                "cp": "Other",
                "cat": "Other",
                "ls": "Other",
                "ll": "Other",
                "lf": "Other",
                "lk": "Other",
                "ldir": "Other",
                "lx": "Other",
                "store": "StoreMagics",
                "shell": "Other",
                "tensorflow_version": "Other"
              },
              "cell": {
                "js": "DisplayMagics",
                "javascript": "DisplayMagics",
                "latex": "DisplayMagics",
                "svg": "DisplayMagics",
                "html": "DisplayMagics",
                "markdown": "DisplayMagics",
                "prun": "ExecutionMagics",
                "debug": "ExecutionMagics",
                "timeit": "ExecutionMagics",
                "time": "ExecutionMagics",
                "capture": "ExecutionMagics",
                "sx": "OSMagics",
                "system": "OSMagics",
                "!": "OSMagics",
                "writefile": "OSMagics",
                "script": "ScriptMagics",
                "sh": "Other",
                "bash": "Other",
                "perl": "Other",
                "ruby": "Other",
                "python": "Other",
                "python2": "Other",
                "python3": "Other",
                "pypy": "Other",
                "SVG": "Other",
                "HTML": "Other",
                "file": "Other",
                "bigquery": "Other",
                "spanner_graph": "Other",
                "shell": "Other"
              }
            }
          },
          "metadata": {},
          "execution_count": 19
        }
      ]
    },
    {
      "cell_type": "code",
      "source": [
        "import tensorflow as tf\n",
        "mnist = tf.keras.datasets.mnist\n",
        "print(\"Data is being loaded\")"
      ],
      "metadata": {
        "colab": {
          "base_uri": "https://localhost:8080/"
        },
        "id": "p0RtJrdXmccq",
        "outputId": "c8084e11-b705-4801-b116-bcd668fa0331"
      },
      "execution_count": 20,
      "outputs": [
        {
          "output_type": "stream",
          "name": "stdout",
          "text": [
            "Data is being loaded\n"
          ]
        }
      ]
    },
    {
      "cell_type": "code",
      "source": [
        "tf.test.gpu_device_name()"
      ],
      "metadata": {
        "colab": {
          "base_uri": "https://localhost:8080/",
          "height": 36
        },
        "id": "HgZwJSI3me3u",
        "outputId": "8ea4643b-d9d1-455b-f861-acb57b2ef214"
      },
      "execution_count": 21,
      "outputs": [
        {
          "output_type": "execute_result",
          "data": {
            "text/plain": [
              "'/device:GPU:0'"
            ],
            "application/vnd.google.colaboratory.intrinsic+json": {
              "type": "string"
            }
          },
          "metadata": {},
          "execution_count": 21
        }
      ]
    },
    {
      "cell_type": "code",
      "source": [
        "from tensorflow.python.client import device_lib\n",
        "device_lib.list_local_devices()"
      ],
      "metadata": {
        "colab": {
          "base_uri": "https://localhost:8080/"
        },
        "id": "c_rNC5UsmuUg",
        "outputId": "0b48dcf6-7d9c-4090-9432-64468bddeb7b"
      },
      "execution_count": 22,
      "outputs": [
        {
          "output_type": "execute_result",
          "data": {
            "text/plain": [
              "[name: \"/device:CPU:0\"\n",
              " device_type: \"CPU\"\n",
              " memory_limit: 268435456\n",
              " locality {\n",
              " }\n",
              " incarnation: 16789788930502003956\n",
              " xla_global_id: -1,\n",
              " name: \"/device:GPU:0\"\n",
              " device_type: \"GPU\"\n",
              " memory_limit: 14619377664\n",
              " locality {\n",
              "   bus_id: 1\n",
              "   links {\n",
              "   }\n",
              " }\n",
              " incarnation: 6899067466958527776\n",
              " physical_device_desc: \"device: 0, name: Tesla T4, pci bus id: 0000:00:04.0, compute capability: 7.5\"\n",
              " xla_global_id: 416903419]"
            ]
          },
          "metadata": {},
          "execution_count": 22
        }
      ]
    },
    {
      "cell_type": "code",
      "source": [
        "!cat /proc/meminfo"
      ],
      "metadata": {
        "colab": {
          "base_uri": "https://localhost:8080/"
        },
        "id": "4mkYybLdmxOo",
        "outputId": "9f825121-ffc7-45ec-976f-bcd252c12c9f"
      },
      "execution_count": 23,
      "outputs": [
        {
          "output_type": "stream",
          "name": "stdout",
          "text": [
            "MemTotal:       13289424 kB\n",
            "MemFree:         7672688 kB\n",
            "MemAvailable:   11390632 kB\n",
            "Buffers:          105744 kB\n",
            "Cached:          3815788 kB\n",
            "SwapCached:            0 kB\n",
            "Active:           551636 kB\n",
            "Inactive:        4598056 kB\n",
            "Active(anon):       1496 kB\n",
            "Inactive(anon):  1239192 kB\n",
            "Active(file):     550140 kB\n",
            "Inactive(file):  3358864 kB\n",
            "Unevictable:          20 kB\n",
            "Mlocked:              20 kB\n",
            "SwapTotal:             0 kB\n",
            "SwapFree:              0 kB\n",
            "Dirty:              2136 kB\n",
            "Writeback:            12 kB\n",
            "AnonPages:       1228420 kB\n",
            "Mapped:          1175452 kB\n",
            "Shmem:             12244 kB\n",
            "KReclaimable:      99756 kB\n",
            "Slab:             147124 kB\n",
            "SReclaimable:      99756 kB\n",
            "SUnreclaim:        47368 kB\n",
            "KernelStack:        6996 kB\n",
            "PageTables:        18876 kB\n",
            "SecPageTables:         0 kB\n",
            "NFS_Unstable:          0 kB\n",
            "Bounce:                0 kB\n",
            "WritebackTmp:          0 kB\n",
            "CommitLimit:     6644712 kB\n",
            "Committed_AS:    4311936 kB\n",
            "VmallocTotal:   34359738367 kB\n",
            "VmallocUsed:       89480 kB\n",
            "VmallocChunk:          0 kB\n",
            "Percpu:             1072 kB\n",
            "HardwareCorrupted:     0 kB\n",
            "AnonHugePages:         0 kB\n",
            "ShmemHugePages:        0 kB\n",
            "ShmemPmdMapped:        0 kB\n",
            "FileHugePages:         0 kB\n",
            "FilePmdMapped:         0 kB\n",
            "CmaTotal:              0 kB\n",
            "CmaFree:               0 kB\n",
            "Unaccepted:            0 kB\n",
            "HugePages_Total:       0\n",
            "HugePages_Free:        0\n",
            "HugePages_Rsvd:        0\n",
            "HugePages_Surp:        0\n",
            "Hugepagesize:       2048 kB\n",
            "Hugetlb:               0 kB\n",
            "DirectMap4k:      219952 kB\n",
            "DirectMap2M:     7116800 kB\n",
            "DirectMap1G:     8388608 kB\n"
          ]
        }
      ]
    }
  ]
}