{
  "nbformat": 4,
  "nbformat_minor": 0,
  "metadata": {
    "colab": {
      "name": "weather.ipynb",
      "provenance": [],
      "collapsed_sections": [],
      "authorship_tag": "ABX9TyOCVyJhpsQC8+d4LgUPVKAs",
      "include_colab_link": true
    },
    "kernelspec": {
      "name": "python3",
      "display_name": "Python 3"
    },
    "language_info": {
      "name": "python"
    }
  },
  "cells": [
    {
      "cell_type": "markdown",
      "metadata": {
        "id": "view-in-github",
        "colab_type": "text"
      },
      "source": [
        "<a href=\"https://colab.research.google.com/github/davidgoins236/public/blob/main/weather.ipynb\" target=\"_parent\"><img src=\"https://colab.research.google.com/assets/colab-badge.svg\" alt=\"Open In Colab\"/></a>"
      ]
    },
    {
      "cell_type": "markdown",
      "source": [
        "### Query Weather Data for Series of Secified Coordinates\n",
        "Source: https://dev.meteostat.net/\n",
        "Method:\n",
        "- Install meteostat & Other libraries\n",
        "- Specify filepaths and time parameters\n",
        "- Upload coordinates & Convert to DF\n",
        "- Loop through coordinates, identify nearest weather station, incorporate data\n",
        "- Combine to new dataframe and save output"
      ],
      "metadata": {
        "id": "qfoFL5FFbhIs"
      }
    },
    {
      "cell_type": "code",
      "source": [
        "#!pip install meteostat"
      ],
      "metadata": {
        "colab": {
          "base_uri": "https://localhost:8080/"
        },
        "id": "W5UKBMyWb_P6",
        "outputId": "579fce4a-c13d-4294-da74-d3a6c99a0c7a"
      },
      "execution_count": null,
      "outputs": [
        {
          "output_type": "stream",
          "name": "stdout",
          "text": [
            "Collecting meteostat\n",
            "  Downloading meteostat-1.6.1-py3-none-any.whl (30 kB)\n",
            "Requirement already satisfied: numpy in /usr/local/lib/python3.7/dist-packages (from meteostat) (1.21.6)\n",
            "Requirement already satisfied: pandas>=1.1 in /usr/local/lib/python3.7/dist-packages (from meteostat) (1.3.5)\n",
            "Requirement already satisfied: pytz in /usr/local/lib/python3.7/dist-packages (from meteostat) (2022.1)\n",
            "Requirement already satisfied: python-dateutil>=2.7.3 in /usr/local/lib/python3.7/dist-packages (from pandas>=1.1->meteostat) (2.8.2)\n",
            "Requirement already satisfied: six>=1.5 in /usr/local/lib/python3.7/dist-packages (from python-dateutil>=2.7.3->pandas>=1.1->meteostat) (1.15.0)\n",
            "Installing collected packages: meteostat\n",
            "Successfully installed meteostat-1.6.1\n"
          ]
        }
      ]
    },
    {
      "cell_type": "code",
      "source": [
        "#import meteostat\n",
        "from meteostat import Stations, Daily, Point"
      ],
      "metadata": {
        "id": "U5GIFNXSaF4m"
      },
      "execution_count": null,
      "outputs": []
    },
    {
      "cell_type": "code",
      "execution_count": null,
      "metadata": {
        "id": "G2P9brpJbeDp"
      },
      "outputs": [],
      "source": [
        "#import libs & set parms\n",
        "\n",
        "import pandas as pd\n",
        "import numpy as np\n",
        "from datetime import datetime, date, timedelta\n",
        "\n",
        "\n",
        "\n",
        "#path of coordinates to find weather history for \n",
        "fpath = 'https://raw.githubusercontent.com/davidgoins236/public/main/coords.csv'\n",
        "output_fpath = \"C:\\\\Users\\\\david\\\\Desktop\"\n",
        "\n",
        "\n",
        "start_year = 2010\n",
        "start_month = 1\n",
        "start_day_of_month = 1\n",
        "today = datetime.combine(date.today(),datetime.min.time())\n",
        "\n",
        "#threshold for min data from weather station\n",
        "days_threshold = 0.8\n"
      ]
    },
    {
      "cell_type": "code",
      "source": [
        "locs = pd.read_csv(fpath)\n",
        "locs.head()"
      ],
      "metadata": {
        "colab": {
          "base_uri": "https://localhost:8080/",
          "height": 206
        },
        "id": "7nopk35CY5Te",
        "outputId": "63f6d565-9e76-4ac0-a57a-9734f19fd751"
      },
      "execution_count": null,
      "outputs": [
        {
          "output_type": "execute_result",
          "data": {
            "text/plain": [
              "    ID        LAT         LON\n",
              "0  274  32.259330  -90.133830\n",
              "1  330  35.594020  -80.860080\n",
              "2  214  43.131670  -89.302830\n",
              "3  418  41.108600  -81.195200\n",
              "4  637  32.009372 -102.156238"
            ],
            "text/html": [
              "\n",
              "  <div id=\"df-c2fda4ef-b36e-4fe6-bb59-734c9e6097f0\">\n",
              "    <div class=\"colab-df-container\">\n",
              "      <div>\n",
              "<style scoped>\n",
              "    .dataframe tbody tr th:only-of-type {\n",
              "        vertical-align: middle;\n",
              "    }\n",
              "\n",
              "    .dataframe tbody tr th {\n",
              "        vertical-align: top;\n",
              "    }\n",
              "\n",
              "    .dataframe thead th {\n",
              "        text-align: right;\n",
              "    }\n",
              "</style>\n",
              "<table border=\"1\" class=\"dataframe\">\n",
              "  <thead>\n",
              "    <tr style=\"text-align: right;\">\n",
              "      <th></th>\n",
              "      <th>ID</th>\n",
              "      <th>LAT</th>\n",
              "      <th>LON</th>\n",
              "    </tr>\n",
              "  </thead>\n",
              "  <tbody>\n",
              "    <tr>\n",
              "      <th>0</th>\n",
              "      <td>274</td>\n",
              "      <td>32.259330</td>\n",
              "      <td>-90.133830</td>\n",
              "    </tr>\n",
              "    <tr>\n",
              "      <th>1</th>\n",
              "      <td>330</td>\n",
              "      <td>35.594020</td>\n",
              "      <td>-80.860080</td>\n",
              "    </tr>\n",
              "    <tr>\n",
              "      <th>2</th>\n",
              "      <td>214</td>\n",
              "      <td>43.131670</td>\n",
              "      <td>-89.302830</td>\n",
              "    </tr>\n",
              "    <tr>\n",
              "      <th>3</th>\n",
              "      <td>418</td>\n",
              "      <td>41.108600</td>\n",
              "      <td>-81.195200</td>\n",
              "    </tr>\n",
              "    <tr>\n",
              "      <th>4</th>\n",
              "      <td>637</td>\n",
              "      <td>32.009372</td>\n",
              "      <td>-102.156238</td>\n",
              "    </tr>\n",
              "  </tbody>\n",
              "</table>\n",
              "</div>\n",
              "      <button class=\"colab-df-convert\" onclick=\"convertToInteractive('df-c2fda4ef-b36e-4fe6-bb59-734c9e6097f0')\"\n",
              "              title=\"Convert this dataframe to an interactive table.\"\n",
              "              style=\"display:none;\">\n",
              "        \n",
              "  <svg xmlns=\"http://www.w3.org/2000/svg\" height=\"24px\"viewBox=\"0 0 24 24\"\n",
              "       width=\"24px\">\n",
              "    <path d=\"M0 0h24v24H0V0z\" fill=\"none\"/>\n",
              "    <path d=\"M18.56 5.44l.94 2.06.94-2.06 2.06-.94-2.06-.94-.94-2.06-.94 2.06-2.06.94zm-11 1L8.5 8.5l.94-2.06 2.06-.94-2.06-.94L8.5 2.5l-.94 2.06-2.06.94zm10 10l.94 2.06.94-2.06 2.06-.94-2.06-.94-.94-2.06-.94 2.06-2.06.94z\"/><path d=\"M17.41 7.96l-1.37-1.37c-.4-.4-.92-.59-1.43-.59-.52 0-1.04.2-1.43.59L10.3 9.45l-7.72 7.72c-.78.78-.78 2.05 0 2.83L4 21.41c.39.39.9.59 1.41.59.51 0 1.02-.2 1.41-.59l7.78-7.78 2.81-2.81c.8-.78.8-2.07 0-2.86zM5.41 20L4 18.59l7.72-7.72 1.47 1.35L5.41 20z\"/>\n",
              "  </svg>\n",
              "      </button>\n",
              "      \n",
              "  <style>\n",
              "    .colab-df-container {\n",
              "      display:flex;\n",
              "      flex-wrap:wrap;\n",
              "      gap: 12px;\n",
              "    }\n",
              "\n",
              "    .colab-df-convert {\n",
              "      background-color: #E8F0FE;\n",
              "      border: none;\n",
              "      border-radius: 50%;\n",
              "      cursor: pointer;\n",
              "      display: none;\n",
              "      fill: #1967D2;\n",
              "      height: 32px;\n",
              "      padding: 0 0 0 0;\n",
              "      width: 32px;\n",
              "    }\n",
              "\n",
              "    .colab-df-convert:hover {\n",
              "      background-color: #E2EBFA;\n",
              "      box-shadow: 0px 1px 2px rgba(60, 64, 67, 0.3), 0px 1px 3px 1px rgba(60, 64, 67, 0.15);\n",
              "      fill: #174EA6;\n",
              "    }\n",
              "\n",
              "    [theme=dark] .colab-df-convert {\n",
              "      background-color: #3B4455;\n",
              "      fill: #D2E3FC;\n",
              "    }\n",
              "\n",
              "    [theme=dark] .colab-df-convert:hover {\n",
              "      background-color: #434B5C;\n",
              "      box-shadow: 0px 1px 3px 1px rgba(0, 0, 0, 0.15);\n",
              "      filter: drop-shadow(0px 1px 2px rgba(0, 0, 0, 0.3));\n",
              "      fill: #FFFFFF;\n",
              "    }\n",
              "  </style>\n",
              "\n",
              "      <script>\n",
              "        const buttonEl =\n",
              "          document.querySelector('#df-c2fda4ef-b36e-4fe6-bb59-734c9e6097f0 button.colab-df-convert');\n",
              "        buttonEl.style.display =\n",
              "          google.colab.kernel.accessAllowed ? 'block' : 'none';\n",
              "\n",
              "        async function convertToInteractive(key) {\n",
              "          const element = document.querySelector('#df-c2fda4ef-b36e-4fe6-bb59-734c9e6097f0');\n",
              "          const dataTable =\n",
              "            await google.colab.kernel.invokeFunction('convertToInteractive',\n",
              "                                                     [key], {});\n",
              "          if (!dataTable) return;\n",
              "\n",
              "          const docLinkHtml = 'Like what you see? Visit the ' +\n",
              "            '<a target=\"_blank\" href=https://colab.research.google.com/notebooks/data_table.ipynb>data table notebook</a>'\n",
              "            + ' to learn more about interactive tables.';\n",
              "          element.innerHTML = '';\n",
              "          dataTable['output_type'] = 'display_data';\n",
              "          await google.colab.output.renderOutput(dataTable, element);\n",
              "          const docLink = document.createElement('div');\n",
              "          docLink.innerHTML = docLinkHtml;\n",
              "          element.appendChild(docLink);\n",
              "        }\n",
              "      </script>\n",
              "    </div>\n",
              "  </div>\n",
              "  "
            ]
          },
          "metadata": {},
          "execution_count": 106
        }
      ]
    },
    {
      "cell_type": "code",
      "source": [
        "#set start to end times\n",
        "start = datetime(start_year, start_month, start_day_of_month)\n",
        "end = today - timedelta(days = 1)\n",
        "days = end-start\n",
        "days= days.days"
      ],
      "metadata": {
        "id": "7R7XP1EZagev"
      },
      "execution_count": null,
      "outputs": []
    },
    {
      "cell_type": "code",
      "source": [
        "#create empty arrays\n",
        "result_list=[]\n",
        "no_result_list=[]"
      ],
      "metadata": {
        "id": "dgggLfXaawkl"
      },
      "execution_count": null,
      "outputs": []
    },
    {
      "cell_type": "code",
      "source": [
        "#loop through locations for weather data\n",
        "for i in locs.itertuples(): \n",
        "\n",
        "  #find 10 closest weather stations\n",
        "  stations = Stations()\n",
        "  stations = stations.nearby(i[2],i[3])\n",
        "  stations_df = stations.fetch(10).reset_index()\n",
        "  station_list = stations_df.id.to_list()\n",
        "\n",
        "  #loop through stations for loc\n",
        "  for j in station_list:\n",
        "\n",
        "    #set counter for # of locs completed\n",
        "    results = 0\n",
        "\n",
        "    # find weather data\n",
        "    data = Daily(j,start,end)\n",
        "    data = data.fetch()\n",
        "    data =data.drop(['wdir','wpgt','pres','tsun'],axis = 1)\n",
        "\n",
        "    #check whether any data was returned\n",
        "    if data.shape[0] > (days * days_threshold):\n",
        "\n",
        "      #add loc id to the df\n",
        "      data['ID']=i[1]\n",
        "      data['CLOSEST_STATION_ID']= j\n",
        "\n",
        "      #append df to results\n",
        "      result_list.append(data)\n",
        "\n",
        "      #break if results were found\n",
        "      break\n",
        "\n",
        "    else:\n",
        "      results = results + 1\n",
        "\n",
        "    # check for any locations with no results\n",
        "    if results == 10:\n",
        "      no_result_list.append(i[1])"
      ],
      "metadata": {
        "colab": {
          "base_uri": "https://localhost:8080/"
        },
        "id": "6oJRBeVna3Mt",
        "outputId": "932682b6-bdc8-478a-da92-353ce617b7e4"
      },
      "execution_count": null,
      "outputs": [
        {
          "output_type": "stream",
          "name": "stderr",
          "text": [
            "Warning: Cannot load daily/KZAB0.csv.gz from https://bulk.meteostat.net/v2/\n",
            "Warning: Cannot load daily/K5T60.csv.gz from https://bulk.meteostat.net/v2/\n"
          ]
        }
      ]
    },
    {
      "cell_type": "code",
      "source": [
        "#all daily weather by loc\n",
        "df = pd.concat(result_list)\n",
        "\n",
        "#create output filename\n",
        "output_fname = output_fpath +'\\\\weather'+ today.strftime('%m_%d_%y')+'.csv'\n",
        "\n",
        "df.to_csv(output_fname)\n"
      ],
      "metadata": {
        "id": "ElVgoH5jdVM0"
      },
      "execution_count": null,
      "outputs": []
    },
    {
      "cell_type": "markdown",
      "source": [
        "Testing below"
      ],
      "metadata": {
        "id": "tFmBF4jZgxbT"
      }
    },
    {
      "cell_type": "code",
      "source": [
        "import plotly.express as px\n",
        "\n",
        "test_loc = df[df['ID']==2]\n",
        "test_loc = test_loc.sort_values(['time'],ascending = False).reset_index().head(364)\n",
        "\n",
        "px.bar(test_loc,x = 'time',y='prcp',title = 'Location 2 Preciptiation by Day T365')"
      ],
      "metadata": {
        "id": "agBql5HBfsZV",
        "colab": {
          "base_uri": "https://localhost:8080/",
          "height": 542
        },
        "outputId": "2bd30958-d34e-441f-e992-b31d83ce53da"
      },
      "execution_count": 143,
      "outputs": [
        {
          "output_type": "display_data",
          "data": {
            "text/html": [
              "<html>\n",
              "<head><meta charset=\"utf-8\" /></head>\n",
              "<body>\n",
              "    <div>            <script src=\"https://cdnjs.cloudflare.com/ajax/libs/mathjax/2.7.5/MathJax.js?config=TeX-AMS-MML_SVG\"></script><script type=\"text/javascript\">if (window.MathJax) {MathJax.Hub.Config({SVG: {font: \"STIX-Web\"}});}</script>                <script type=\"text/javascript\">window.PlotlyConfig = {MathJaxConfig: 'local'};</script>\n",
              "        <script src=\"https://cdn.plot.ly/plotly-2.8.3.min.js\"></script>                <div id=\"d79c8000-a3f4-4b0d-9c6e-827d64e3a8ee\" class=\"plotly-graph-div\" style=\"height:525px; width:100%;\"></div>            <script type=\"text/javascript\">                                    window.PLOTLYENV=window.PLOTLYENV || {};                                    if (document.getElementById(\"d79c8000-a3f4-4b0d-9c6e-827d64e3a8ee\")) {                    Plotly.newPlot(                        \"d79c8000-a3f4-4b0d-9c6e-827d64e3a8ee\",                        [{\"alignmentgroup\":\"True\",\"hovertemplate\":\"time=%{x}<br>prcp=%{y}<extra></extra>\",\"legendgroup\":\"\",\"marker\":{\"color\":\"#636efa\",\"pattern\":{\"shape\":\"\"}},\"name\":\"\",\"offsetgroup\":\"\",\"orientation\":\"v\",\"showlegend\":false,\"textposition\":\"auto\",\"x\":[\"2022-05-18T00:00:00\",\"2022-05-17T00:00:00\",\"2022-05-16T00:00:00\",\"2022-05-15T00:00:00\",\"2022-05-14T00:00:00\",\"2022-05-13T00:00:00\",\"2022-05-12T00:00:00\",\"2022-05-11T00:00:00\",\"2022-05-10T00:00:00\",\"2022-05-09T00:00:00\",\"2022-05-08T00:00:00\",\"2022-05-07T00:00:00\",\"2022-05-06T00:00:00\",\"2022-05-05T00:00:00\",\"2022-05-04T00:00:00\",\"2022-05-03T00:00:00\",\"2022-05-02T00:00:00\",\"2022-05-01T00:00:00\",\"2022-04-30T00:00:00\",\"2022-04-29T00:00:00\",\"2022-04-28T00:00:00\",\"2022-04-27T00:00:00\",\"2022-04-26T00:00:00\",\"2022-04-25T00:00:00\",\"2022-04-24T00:00:00\",\"2022-04-23T00:00:00\",\"2022-04-22T00:00:00\",\"2022-04-21T00:00:00\",\"2022-04-20T00:00:00\",\"2022-04-19T00:00:00\",\"2022-04-18T00:00:00\",\"2022-04-17T00:00:00\",\"2022-04-16T00:00:00\",\"2022-04-15T00:00:00\",\"2022-04-14T00:00:00\",\"2022-04-13T00:00:00\",\"2022-04-12T00:00:00\",\"2022-04-11T00:00:00\",\"2022-04-10T00:00:00\",\"2022-04-09T00:00:00\",\"2022-04-08T00:00:00\",\"2022-04-07T00:00:00\",\"2022-04-06T00:00:00\",\"2022-04-05T00:00:00\",\"2022-04-04T00:00:00\",\"2022-04-03T00:00:00\",\"2022-04-02T00:00:00\",\"2022-04-01T00:00:00\",\"2022-03-31T00:00:00\",\"2022-03-30T00:00:00\",\"2022-03-29T00:00:00\",\"2022-03-28T00:00:00\",\"2022-03-27T00:00:00\",\"2022-03-26T00:00:00\",\"2022-03-25T00:00:00\",\"2022-03-24T00:00:00\",\"2022-03-23T00:00:00\",\"2022-03-22T00:00:00\",\"2022-03-21T00:00:00\",\"2022-03-20T00:00:00\",\"2022-03-19T00:00:00\",\"2022-03-18T00:00:00\",\"2022-03-17T00:00:00\",\"2022-03-16T00:00:00\",\"2022-03-15T00:00:00\",\"2022-03-14T00:00:00\",\"2022-03-12T00:00:00\",\"2022-03-11T00:00:00\",\"2022-03-10T00:00:00\",\"2022-03-09T00:00:00\",\"2022-03-08T00:00:00\",\"2022-03-07T00:00:00\",\"2022-03-06T00:00:00\",\"2022-03-05T00:00:00\",\"2022-03-04T00:00:00\",\"2022-03-03T00:00:00\",\"2022-03-02T00:00:00\",\"2022-03-01T00:00:00\",\"2022-02-28T00:00:00\",\"2022-02-27T00:00:00\",\"2022-02-26T00:00:00\",\"2022-02-25T00:00:00\",\"2022-02-24T00:00:00\",\"2022-02-23T00:00:00\",\"2022-02-22T00:00:00\",\"2022-02-21T00:00:00\",\"2022-02-20T00:00:00\",\"2022-02-19T00:00:00\",\"2022-02-18T00:00:00\",\"2022-02-17T00:00:00\",\"2022-02-16T00:00:00\",\"2022-02-15T00:00:00\",\"2022-02-14T00:00:00\",\"2022-02-13T00:00:00\",\"2022-02-12T00:00:00\",\"2022-02-11T00:00:00\",\"2022-02-10T00:00:00\",\"2022-02-09T00:00:00\",\"2022-02-08T00:00:00\",\"2022-02-07T00:00:00\",\"2022-02-06T00:00:00\",\"2022-02-05T00:00:00\",\"2022-02-04T00:00:00\",\"2022-02-03T00:00:00\",\"2022-02-02T00:00:00\",\"2022-02-01T00:00:00\",\"2022-01-31T00:00:00\",\"2022-01-30T00:00:00\",\"2022-01-29T00:00:00\",\"2022-01-28T00:00:00\",\"2022-01-27T00:00:00\",\"2022-01-26T00:00:00\",\"2022-01-25T00:00:00\",\"2022-01-24T00:00:00\",\"2022-01-23T00:00:00\",\"2022-01-22T00:00:00\",\"2022-01-21T00:00:00\",\"2022-01-20T00:00:00\",\"2022-01-19T00:00:00\",\"2022-01-18T00:00:00\",\"2022-01-17T00:00:00\",\"2022-01-16T00:00:00\",\"2022-01-15T00:00:00\",\"2022-01-14T00:00:00\",\"2022-01-13T00:00:00\",\"2022-01-12T00:00:00\",\"2022-01-11T00:00:00\",\"2022-01-10T00:00:00\",\"2022-01-09T00:00:00\",\"2022-01-08T00:00:00\",\"2022-01-07T00:00:00\",\"2022-01-06T00:00:00\",\"2022-01-05T00:00:00\",\"2022-01-04T00:00:00\",\"2022-01-03T00:00:00\",\"2022-01-02T00:00:00\",\"2022-01-01T00:00:00\",\"2021-12-31T00:00:00\",\"2021-12-30T00:00:00\",\"2021-12-29T00:00:00\",\"2021-12-28T00:00:00\",\"2021-12-27T00:00:00\",\"2021-12-26T00:00:00\",\"2021-12-25T00:00:00\",\"2021-12-24T00:00:00\",\"2021-12-23T00:00:00\",\"2021-12-22T00:00:00\",\"2021-12-21T00:00:00\",\"2021-12-20T00:00:00\",\"2021-12-19T00:00:00\",\"2021-12-18T00:00:00\",\"2021-12-17T00:00:00\",\"2021-12-16T00:00:00\",\"2021-12-15T00:00:00\",\"2021-12-14T00:00:00\",\"2021-12-13T00:00:00\",\"2021-12-12T00:00:00\",\"2021-12-11T00:00:00\",\"2021-12-10T00:00:00\",\"2021-12-09T00:00:00\",\"2021-12-08T00:00:00\",\"2021-12-07T00:00:00\",\"2021-12-06T00:00:00\",\"2021-12-05T00:00:00\",\"2021-12-04T00:00:00\",\"2021-12-03T00:00:00\",\"2021-12-02T00:00:00\",\"2021-12-01T00:00:00\",\"2021-11-30T00:00:00\",\"2021-11-29T00:00:00\",\"2021-11-28T00:00:00\",\"2021-11-27T00:00:00\",\"2021-11-26T00:00:00\",\"2021-11-25T00:00:00\",\"2021-11-24T00:00:00\",\"2021-11-23T00:00:00\",\"2021-11-22T00:00:00\",\"2021-11-21T00:00:00\",\"2021-11-20T00:00:00\",\"2021-11-19T00:00:00\",\"2021-11-18T00:00:00\",\"2021-11-17T00:00:00\",\"2021-11-16T00:00:00\",\"2021-11-15T00:00:00\",\"2021-11-14T00:00:00\",\"2021-11-13T00:00:00\",\"2021-11-12T00:00:00\",\"2021-11-11T00:00:00\",\"2021-11-10T00:00:00\",\"2021-11-09T00:00:00\",\"2021-11-08T00:00:00\",\"2021-11-07T00:00:00\",\"2021-11-06T00:00:00\",\"2021-11-05T00:00:00\",\"2021-11-04T00:00:00\",\"2021-11-03T00:00:00\",\"2021-11-02T00:00:00\",\"2021-11-01T00:00:00\",\"2021-10-31T00:00:00\",\"2021-10-30T00:00:00\",\"2021-10-29T00:00:00\",\"2021-10-28T00:00:00\",\"2021-10-27T00:00:00\",\"2021-10-26T00:00:00\",\"2021-10-25T00:00:00\",\"2021-10-24T00:00:00\",\"2021-10-23T00:00:00\",\"2021-10-22T00:00:00\",\"2021-10-21T00:00:00\",\"2021-10-20T00:00:00\",\"2021-10-19T00:00:00\",\"2021-10-18T00:00:00\",\"2021-10-17T00:00:00\",\"2021-10-16T00:00:00\",\"2021-10-15T00:00:00\",\"2021-10-14T00:00:00\",\"2021-10-13T00:00:00\",\"2021-10-12T00:00:00\",\"2021-10-11T00:00:00\",\"2021-10-10T00:00:00\",\"2021-10-09T00:00:00\",\"2021-10-08T00:00:00\",\"2021-10-07T00:00:00\",\"2021-10-06T00:00:00\",\"2021-10-05T00:00:00\",\"2021-10-04T00:00:00\",\"2021-10-03T00:00:00\",\"2021-10-02T00:00:00\",\"2021-10-01T00:00:00\",\"2021-09-30T00:00:00\",\"2021-09-29T00:00:00\",\"2021-09-28T00:00:00\",\"2021-09-27T00:00:00\",\"2021-09-26T00:00:00\",\"2021-09-25T00:00:00\",\"2021-09-24T00:00:00\",\"2021-09-23T00:00:00\",\"2021-09-22T00:00:00\",\"2021-09-21T00:00:00\",\"2021-09-20T00:00:00\",\"2021-09-19T00:00:00\",\"2021-09-18T00:00:00\",\"2021-09-17T00:00:00\",\"2021-09-16T00:00:00\",\"2021-09-15T00:00:00\",\"2021-09-14T00:00:00\",\"2021-09-13T00:00:00\",\"2021-09-12T00:00:00\",\"2021-09-11T00:00:00\",\"2021-09-10T00:00:00\",\"2021-09-09T00:00:00\",\"2021-09-08T00:00:00\",\"2021-09-07T00:00:00\",\"2021-09-06T00:00:00\",\"2021-09-05T00:00:00\",\"2021-09-04T00:00:00\",\"2021-09-03T00:00:00\",\"2021-09-02T00:00:00\",\"2021-09-01T00:00:00\",\"2021-08-31T00:00:00\",\"2021-08-30T00:00:00\",\"2021-08-29T00:00:00\",\"2021-08-28T00:00:00\",\"2021-08-27T00:00:00\",\"2021-08-26T00:00:00\",\"2021-08-25T00:00:00\",\"2021-08-24T00:00:00\",\"2021-08-23T00:00:00\",\"2021-08-22T00:00:00\",\"2021-08-21T00:00:00\",\"2021-08-20T00:00:00\",\"2021-08-19T00:00:00\",\"2021-08-18T00:00:00\",\"2021-08-17T00:00:00\",\"2021-08-16T00:00:00\",\"2021-08-15T00:00:00\",\"2021-08-14T00:00:00\",\"2021-08-13T00:00:00\",\"2021-08-12T00:00:00\",\"2021-08-11T00:00:00\",\"2021-08-10T00:00:00\",\"2021-08-09T00:00:00\",\"2021-08-08T00:00:00\",\"2021-08-07T00:00:00\",\"2021-08-06T00:00:00\",\"2021-08-05T00:00:00\",\"2021-08-04T00:00:00\",\"2021-08-03T00:00:00\",\"2021-08-02T00:00:00\",\"2021-08-01T00:00:00\",\"2021-07-31T00:00:00\",\"2021-07-30T00:00:00\",\"2021-07-29T00:00:00\",\"2021-07-28T00:00:00\",\"2021-07-27T00:00:00\",\"2021-07-26T00:00:00\",\"2021-07-25T00:00:00\",\"2021-07-24T00:00:00\",\"2021-07-23T00:00:00\",\"2021-07-22T00:00:00\",\"2021-07-21T00:00:00\",\"2021-07-20T00:00:00\",\"2021-07-19T00:00:00\",\"2021-07-18T00:00:00\",\"2021-07-17T00:00:00\",\"2021-07-16T00:00:00\",\"2021-07-15T00:00:00\",\"2021-07-14T00:00:00\",\"2021-07-13T00:00:00\",\"2021-07-12T00:00:00\",\"2021-07-11T00:00:00\",\"2021-07-10T00:00:00\",\"2021-07-09T00:00:00\",\"2021-07-08T00:00:00\",\"2021-07-07T00:00:00\",\"2021-07-06T00:00:00\",\"2021-07-05T00:00:00\",\"2021-07-04T00:00:00\",\"2021-07-03T00:00:00\",\"2021-07-02T00:00:00\",\"2021-07-01T00:00:00\",\"2021-06-30T00:00:00\",\"2021-06-29T00:00:00\",\"2021-06-28T00:00:00\",\"2021-06-27T00:00:00\",\"2021-06-26T00:00:00\",\"2021-06-25T00:00:00\",\"2021-06-24T00:00:00\",\"2021-06-23T00:00:00\",\"2021-06-22T00:00:00\",\"2021-06-21T00:00:00\",\"2021-06-20T00:00:00\",\"2021-06-19T00:00:00\",\"2021-06-18T00:00:00\",\"2021-06-17T00:00:00\",\"2021-06-16T00:00:00\",\"2021-06-15T00:00:00\",\"2021-06-14T00:00:00\",\"2021-06-13T00:00:00\",\"2021-06-12T00:00:00\",\"2021-06-11T00:00:00\",\"2021-06-10T00:00:00\",\"2021-06-09T00:00:00\",\"2021-06-08T00:00:00\",\"2021-06-07T00:00:00\",\"2021-06-06T00:00:00\",\"2021-06-05T00:00:00\",\"2021-06-04T00:00:00\",\"2021-06-03T00:00:00\",\"2021-06-02T00:00:00\",\"2021-06-01T00:00:00\",\"2021-05-31T00:00:00\",\"2021-05-30T00:00:00\",\"2021-05-29T00:00:00\",\"2021-05-28T00:00:00\",\"2021-05-27T00:00:00\",\"2021-05-26T00:00:00\",\"2021-05-25T00:00:00\",\"2021-05-24T00:00:00\",\"2021-05-23T00:00:00\",\"2021-05-22T00:00:00\",\"2021-05-21T00:00:00\",\"2021-05-20T00:00:00\",\"2021-05-19T00:00:00\"],\"xaxis\":\"x\",\"y\":[0.1,0.0,0.0,0.0,1.1,0.3,0.0,0.0,0.0,0.0,0.0,0.3,13.7,0.0,0.0,0.4,0.0,1.5,1.7,0.0,0.0,0.0,0.0,6.7,0.0,0.0,0.0,4.4,0.0,0.0,4.3,0.6,11.3,0.7,8.0,5.3,33.4,18.0,0.0,0.8,2.9,0.0,15.4,18.2,0.0,0.0,0.1,0.6,2.3,23.0,0.2,0.1,0.0,0.0,0.2,0.2,19.4,13.3,0.0,0.0,0.0,16.3,0.2,11.9,0.0,0.0,3.0,4.8,0.1,5.5,5.5,19.0,0.2,0.4,0.0,0.0,0.0,0.0,0.0,2.7,0.5,3.0,49.2,20.3,47.9,1.9,0.0,0.0,0.0,41.6,0.0,0.0,0.0,0.0,0.1,0.0,0.0,0.0,0.0,0.0,0.0,0.0,1.5,21.4,26.3,0.0,0.0,0.0,0.0,1.1,0.0,0.0,0.0,0.0,0.0,0.0,0.0,2.6,32.2,0.0,1.0,32.6,5.2,0.0,0.0,0.0,0.0,0.0,29.8,1.5,0.0,7.3,0.0,0.0,1.1,6.6,37.3,4.5,0.9,36.7,6.1,3.6,0.5,1.4,0.0,0.0,0.0,0.0,0.0,0.0,17.9,33.4,10.8,0.0,0.0,0.0,0.0,20.4,11.0,0.3,0.1,0.0,19.8,3.8,2.5,0.0,0.3,1.5,0.0,0.0,0.0,0.0,0.0,8.2,0.0,0.0,0.0,11.5,0.0,0.0,9.5,0.1,0.1,0.0,0.0,0.0,0.4,9.5,0.0,0.0,0.0,0.0,0.0,0.0,0.0,0.0,0.1,0.0,0.0,5.1,8.2,22.1,0.0,0.0,20.2,0.0,0.3,0.0,6.5,0.0,0.0,0.0,0.0,2.6,12.2,0.0,0.0,1.1,0.0,0.0,0.1,0.1,4.2,16.8,10.4,1.1,28.5,9.8,0.1,0.0,0.0,0.0,0.0,0.0,0.4,0.0,0.0,26.7,14.7,45.9,28.6,24.3,9.5,0.4,15.7,1.3,0.2,0.0,0.0,0.0,0.0,0.1,0.0,0.0,3.4,0.0,0.0,0.0,0.1,94.7,17.6,3.2,2.2,0.0,1.0,0.0,0.0,0.0,0.9,15.6,1.2,8.8,22.7,0.0,22.1,11.4,0.6,0.5,0.0,1.8,1.9,8.0,0.0,9.6,0.5,0.0,0.0,0.0,0.0,11.0,0.0,2.9,0.0,0.0,1.2,5.6,1.9,0.0,0.0,0.0,0.0,2.7,5.0,15.8,20.8,4.9,0.2,0.3,5.1,10.7,23.9,8.6,3.7,2.5,10.0,0.0,0.0,0.0,0.0,3.3,22.8,0.8,3.8,1.0,0.2,0.0,0.7,0.0,0.0,11.7,20.9,0.0,0.3,0.0,0.0,0.0,0.0,0.0,0.4,0.6,10.0,10.1,25.7,6.9,9.1,12.8,10.5,0.0,9.0,48.0,0.0,0.0,0.0,0.5,33.2,0.8,3.6,0.0,0.0,0.0,0.0,0.0,0.0,0.9],\"yaxis\":\"y\",\"type\":\"bar\"}],                        {\"template\":{\"data\":{\"bar\":[{\"error_x\":{\"color\":\"#2a3f5f\"},\"error_y\":{\"color\":\"#2a3f5f\"},\"marker\":{\"line\":{\"color\":\"#E5ECF6\",\"width\":0.5},\"pattern\":{\"fillmode\":\"overlay\",\"size\":10,\"solidity\":0.2}},\"type\":\"bar\"}],\"barpolar\":[{\"marker\":{\"line\":{\"color\":\"#E5ECF6\",\"width\":0.5},\"pattern\":{\"fillmode\":\"overlay\",\"size\":10,\"solidity\":0.2}},\"type\":\"barpolar\"}],\"carpet\":[{\"aaxis\":{\"endlinecolor\":\"#2a3f5f\",\"gridcolor\":\"white\",\"linecolor\":\"white\",\"minorgridcolor\":\"white\",\"startlinecolor\":\"#2a3f5f\"},\"baxis\":{\"endlinecolor\":\"#2a3f5f\",\"gridcolor\":\"white\",\"linecolor\":\"white\",\"minorgridcolor\":\"white\",\"startlinecolor\":\"#2a3f5f\"},\"type\":\"carpet\"}],\"choropleth\":[{\"colorbar\":{\"outlinewidth\":0,\"ticks\":\"\"},\"type\":\"choropleth\"}],\"contour\":[{\"colorbar\":{\"outlinewidth\":0,\"ticks\":\"\"},\"colorscale\":[[0.0,\"#0d0887\"],[0.1111111111111111,\"#46039f\"],[0.2222222222222222,\"#7201a8\"],[0.3333333333333333,\"#9c179e\"],[0.4444444444444444,\"#bd3786\"],[0.5555555555555556,\"#d8576b\"],[0.6666666666666666,\"#ed7953\"],[0.7777777777777778,\"#fb9f3a\"],[0.8888888888888888,\"#fdca26\"],[1.0,\"#f0f921\"]],\"type\":\"contour\"}],\"contourcarpet\":[{\"colorbar\":{\"outlinewidth\":0,\"ticks\":\"\"},\"type\":\"contourcarpet\"}],\"heatmap\":[{\"colorbar\":{\"outlinewidth\":0,\"ticks\":\"\"},\"colorscale\":[[0.0,\"#0d0887\"],[0.1111111111111111,\"#46039f\"],[0.2222222222222222,\"#7201a8\"],[0.3333333333333333,\"#9c179e\"],[0.4444444444444444,\"#bd3786\"],[0.5555555555555556,\"#d8576b\"],[0.6666666666666666,\"#ed7953\"],[0.7777777777777778,\"#fb9f3a\"],[0.8888888888888888,\"#fdca26\"],[1.0,\"#f0f921\"]],\"type\":\"heatmap\"}],\"heatmapgl\":[{\"colorbar\":{\"outlinewidth\":0,\"ticks\":\"\"},\"colorscale\":[[0.0,\"#0d0887\"],[0.1111111111111111,\"#46039f\"],[0.2222222222222222,\"#7201a8\"],[0.3333333333333333,\"#9c179e\"],[0.4444444444444444,\"#bd3786\"],[0.5555555555555556,\"#d8576b\"],[0.6666666666666666,\"#ed7953\"],[0.7777777777777778,\"#fb9f3a\"],[0.8888888888888888,\"#fdca26\"],[1.0,\"#f0f921\"]],\"type\":\"heatmapgl\"}],\"histogram\":[{\"marker\":{\"pattern\":{\"fillmode\":\"overlay\",\"size\":10,\"solidity\":0.2}},\"type\":\"histogram\"}],\"histogram2d\":[{\"colorbar\":{\"outlinewidth\":0,\"ticks\":\"\"},\"colorscale\":[[0.0,\"#0d0887\"],[0.1111111111111111,\"#46039f\"],[0.2222222222222222,\"#7201a8\"],[0.3333333333333333,\"#9c179e\"],[0.4444444444444444,\"#bd3786\"],[0.5555555555555556,\"#d8576b\"],[0.6666666666666666,\"#ed7953\"],[0.7777777777777778,\"#fb9f3a\"],[0.8888888888888888,\"#fdca26\"],[1.0,\"#f0f921\"]],\"type\":\"histogram2d\"}],\"histogram2dcontour\":[{\"colorbar\":{\"outlinewidth\":0,\"ticks\":\"\"},\"colorscale\":[[0.0,\"#0d0887\"],[0.1111111111111111,\"#46039f\"],[0.2222222222222222,\"#7201a8\"],[0.3333333333333333,\"#9c179e\"],[0.4444444444444444,\"#bd3786\"],[0.5555555555555556,\"#d8576b\"],[0.6666666666666666,\"#ed7953\"],[0.7777777777777778,\"#fb9f3a\"],[0.8888888888888888,\"#fdca26\"],[1.0,\"#f0f921\"]],\"type\":\"histogram2dcontour\"}],\"mesh3d\":[{\"colorbar\":{\"outlinewidth\":0,\"ticks\":\"\"},\"type\":\"mesh3d\"}],\"parcoords\":[{\"line\":{\"colorbar\":{\"outlinewidth\":0,\"ticks\":\"\"}},\"type\":\"parcoords\"}],\"pie\":[{\"automargin\":true,\"type\":\"pie\"}],\"scatter\":[{\"marker\":{\"colorbar\":{\"outlinewidth\":0,\"ticks\":\"\"}},\"type\":\"scatter\"}],\"scatter3d\":[{\"line\":{\"colorbar\":{\"outlinewidth\":0,\"ticks\":\"\"}},\"marker\":{\"colorbar\":{\"outlinewidth\":0,\"ticks\":\"\"}},\"type\":\"scatter3d\"}],\"scattercarpet\":[{\"marker\":{\"colorbar\":{\"outlinewidth\":0,\"ticks\":\"\"}},\"type\":\"scattercarpet\"}],\"scattergeo\":[{\"marker\":{\"colorbar\":{\"outlinewidth\":0,\"ticks\":\"\"}},\"type\":\"scattergeo\"}],\"scattergl\":[{\"marker\":{\"colorbar\":{\"outlinewidth\":0,\"ticks\":\"\"}},\"type\":\"scattergl\"}],\"scattermapbox\":[{\"marker\":{\"colorbar\":{\"outlinewidth\":0,\"ticks\":\"\"}},\"type\":\"scattermapbox\"}],\"scatterpolar\":[{\"marker\":{\"colorbar\":{\"outlinewidth\":0,\"ticks\":\"\"}},\"type\":\"scatterpolar\"}],\"scatterpolargl\":[{\"marker\":{\"colorbar\":{\"outlinewidth\":0,\"ticks\":\"\"}},\"type\":\"scatterpolargl\"}],\"scatterternary\":[{\"marker\":{\"colorbar\":{\"outlinewidth\":0,\"ticks\":\"\"}},\"type\":\"scatterternary\"}],\"surface\":[{\"colorbar\":{\"outlinewidth\":0,\"ticks\":\"\"},\"colorscale\":[[0.0,\"#0d0887\"],[0.1111111111111111,\"#46039f\"],[0.2222222222222222,\"#7201a8\"],[0.3333333333333333,\"#9c179e\"],[0.4444444444444444,\"#bd3786\"],[0.5555555555555556,\"#d8576b\"],[0.6666666666666666,\"#ed7953\"],[0.7777777777777778,\"#fb9f3a\"],[0.8888888888888888,\"#fdca26\"],[1.0,\"#f0f921\"]],\"type\":\"surface\"}],\"table\":[{\"cells\":{\"fill\":{\"color\":\"#EBF0F8\"},\"line\":{\"color\":\"white\"}},\"header\":{\"fill\":{\"color\":\"#C8D4E3\"},\"line\":{\"color\":\"white\"}},\"type\":\"table\"}]},\"layout\":{\"annotationdefaults\":{\"arrowcolor\":\"#2a3f5f\",\"arrowhead\":0,\"arrowwidth\":1},\"autotypenumbers\":\"strict\",\"coloraxis\":{\"colorbar\":{\"outlinewidth\":0,\"ticks\":\"\"}},\"colorscale\":{\"diverging\":[[0,\"#8e0152\"],[0.1,\"#c51b7d\"],[0.2,\"#de77ae\"],[0.3,\"#f1b6da\"],[0.4,\"#fde0ef\"],[0.5,\"#f7f7f7\"],[0.6,\"#e6f5d0\"],[0.7,\"#b8e186\"],[0.8,\"#7fbc41\"],[0.9,\"#4d9221\"],[1,\"#276419\"]],\"sequential\":[[0.0,\"#0d0887\"],[0.1111111111111111,\"#46039f\"],[0.2222222222222222,\"#7201a8\"],[0.3333333333333333,\"#9c179e\"],[0.4444444444444444,\"#bd3786\"],[0.5555555555555556,\"#d8576b\"],[0.6666666666666666,\"#ed7953\"],[0.7777777777777778,\"#fb9f3a\"],[0.8888888888888888,\"#fdca26\"],[1.0,\"#f0f921\"]],\"sequentialminus\":[[0.0,\"#0d0887\"],[0.1111111111111111,\"#46039f\"],[0.2222222222222222,\"#7201a8\"],[0.3333333333333333,\"#9c179e\"],[0.4444444444444444,\"#bd3786\"],[0.5555555555555556,\"#d8576b\"],[0.6666666666666666,\"#ed7953\"],[0.7777777777777778,\"#fb9f3a\"],[0.8888888888888888,\"#fdca26\"],[1.0,\"#f0f921\"]]},\"colorway\":[\"#636efa\",\"#EF553B\",\"#00cc96\",\"#ab63fa\",\"#FFA15A\",\"#19d3f3\",\"#FF6692\",\"#B6E880\",\"#FF97FF\",\"#FECB52\"],\"font\":{\"color\":\"#2a3f5f\"},\"geo\":{\"bgcolor\":\"white\",\"lakecolor\":\"white\",\"landcolor\":\"#E5ECF6\",\"showlakes\":true,\"showland\":true,\"subunitcolor\":\"white\"},\"hoverlabel\":{\"align\":\"left\"},\"hovermode\":\"closest\",\"mapbox\":{\"style\":\"light\"},\"paper_bgcolor\":\"white\",\"plot_bgcolor\":\"#E5ECF6\",\"polar\":{\"angularaxis\":{\"gridcolor\":\"white\",\"linecolor\":\"white\",\"ticks\":\"\"},\"bgcolor\":\"#E5ECF6\",\"radialaxis\":{\"gridcolor\":\"white\",\"linecolor\":\"white\",\"ticks\":\"\"}},\"scene\":{\"xaxis\":{\"backgroundcolor\":\"#E5ECF6\",\"gridcolor\":\"white\",\"gridwidth\":2,\"linecolor\":\"white\",\"showbackground\":true,\"ticks\":\"\",\"zerolinecolor\":\"white\"},\"yaxis\":{\"backgroundcolor\":\"#E5ECF6\",\"gridcolor\":\"white\",\"gridwidth\":2,\"linecolor\":\"white\",\"showbackground\":true,\"ticks\":\"\",\"zerolinecolor\":\"white\"},\"zaxis\":{\"backgroundcolor\":\"#E5ECF6\",\"gridcolor\":\"white\",\"gridwidth\":2,\"linecolor\":\"white\",\"showbackground\":true,\"ticks\":\"\",\"zerolinecolor\":\"white\"}},\"shapedefaults\":{\"line\":{\"color\":\"#2a3f5f\"}},\"ternary\":{\"aaxis\":{\"gridcolor\":\"white\",\"linecolor\":\"white\",\"ticks\":\"\"},\"baxis\":{\"gridcolor\":\"white\",\"linecolor\":\"white\",\"ticks\":\"\"},\"bgcolor\":\"#E5ECF6\",\"caxis\":{\"gridcolor\":\"white\",\"linecolor\":\"white\",\"ticks\":\"\"}},\"title\":{\"x\":0.05},\"xaxis\":{\"automargin\":true,\"gridcolor\":\"white\",\"linecolor\":\"white\",\"ticks\":\"\",\"title\":{\"standoff\":15},\"zerolinecolor\":\"white\",\"zerolinewidth\":2},\"yaxis\":{\"automargin\":true,\"gridcolor\":\"white\",\"linecolor\":\"white\",\"ticks\":\"\",\"title\":{\"standoff\":15},\"zerolinecolor\":\"white\",\"zerolinewidth\":2}}},\"xaxis\":{\"anchor\":\"y\",\"domain\":[0.0,1.0],\"title\":{\"text\":\"time\"}},\"yaxis\":{\"anchor\":\"x\",\"domain\":[0.0,1.0],\"title\":{\"text\":\"prcp\"}},\"legend\":{\"tracegroupgap\":0},\"title\":{\"text\":\"Location 2 Preciptiation by Day T365\"},\"barmode\":\"relative\"},                        {\"responsive\": true}                    ).then(function(){\n",
              "                            \n",
              "var gd = document.getElementById('d79c8000-a3f4-4b0d-9c6e-827d64e3a8ee');\n",
              "var x = new MutationObserver(function (mutations, observer) {{\n",
              "        var display = window.getComputedStyle(gd).display;\n",
              "        if (!display || display === 'none') {{\n",
              "            console.log([gd, 'removed!']);\n",
              "            Plotly.purge(gd);\n",
              "            observer.disconnect();\n",
              "        }}\n",
              "}});\n",
              "\n",
              "// Listen for the removal of the full notebook cells\n",
              "var notebookContainer = gd.closest('#notebook-container');\n",
              "if (notebookContainer) {{\n",
              "    x.observe(notebookContainer, {childList: true});\n",
              "}}\n",
              "\n",
              "// Listen for the clearing of the current output cell\n",
              "var outputEl = gd.closest('.output');\n",
              "if (outputEl) {{\n",
              "    x.observe(outputEl, {childList: true});\n",
              "}}\n",
              "\n",
              "                        })                };                            </script>        </div>\n",
              "</body>\n",
              "</html>"
            ]
          },
          "metadata": {}
        }
      ]
    }
  ]
}